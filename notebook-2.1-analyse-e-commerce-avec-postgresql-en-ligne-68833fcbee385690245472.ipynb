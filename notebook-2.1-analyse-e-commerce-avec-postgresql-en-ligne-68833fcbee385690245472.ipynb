{
  "cells": [
    {
      "cell_type": "markdown",
      "metadata": {
        "id": "I43NxonzOSDg"
      },
      "source": [
        "# Notebook 2 - SQL avec vraies bases de données\n",
        "## Analyse e-commerce avec PostgreSQL en ligne\n",
        "\n"
      ]
    },
    {
      "cell_type": "markdown",
      "metadata": {
        "id": "JItQV6o4Ojrm"
      },
      "source": [
        "\n",
        "### 🎯 Objectifs pédagogiques\n",
        "- Connecter Python à une vraie base de données PostgreSQL\n",
        "- Écrire des requêtes SQL complexes sur des données réelles\n",
        "- Implémenter des analyses RFM avec SQL\n",
        "- Intégrer SQL et pandas pour des analyses avancées\n",
        "- Gérer les connexions et la sécurité\n",
        "\n",
        "### 🛍️ Contexte du projet\n",
        "Vous analysez les données d'un vrai dataset e-commerce (Brazilian E-Commerce Public Dataset) hébergé sur une base PostgreSQL.\n",
        "\n",
        "Objectif : créer une segmentation clientèle pour optimiser les campagnes marketing.\n"
      ]
    },
    {
      "cell_type": "markdown",
      "metadata": {
        "id": "K79TBMVvOuoj"
      },
      "source": [
        "## Partie 1 : Connexion à la base de données réelle"
      ]
    },
    {
      "cell_type": "markdown",
      "metadata": {
        "id": "mq7n18iwPBPe"
      },
      "source": [
        "### 🔧 Installation et configuration\n",
        "\n",
        "\n",
        "# Installation des dépendances\n",
        "\n",
        "\n",
        "```\n",
        "pip install psycopg2-binary sqlalchemy pandas python-dotenv\n",
        "```\n",
        "\n",
        "\n"
      ]
    },
    {
      "cell_type": "code",
      "execution_count": 3,
      "metadata": {
        "id": "_NuY2FHuOhu3"
      },
      "outputs": [
        {
          "data": {
            "text/plain": [
              "True"
            ]
          },
          "execution_count": 3,
          "metadata": {},
          "output_type": "execute_result"
        }
      ],
      "source": [
        "import psycopg2\n",
        "import pandas as pd\n",
        "import numpy as np\n",
        "from sqlalchemy import create_engine\n",
        "from sqlalchemy import text\n",
        "import matplotlib.pyplot as plt\n",
        "import seaborn as sns\n",
        "from datetime import datetime, timedelta\n",
        "import os\n",
        "from dotenv import load_dotenv\n",
        "load_dotenv() \n",
        "#from dotenv import load_dotenv"
      ]
    },
    {
      "cell_type": "markdown",
      "metadata": {
        "id": "QEbORVz5PXMa"
      },
      "source": [
        "### 🌐 Base de données PostgreSQL gratuite (ElephantSQL)\n",
        "\n",
        "**Option 1 : ElephantSQL (20MB gratuit)**\n",
        "1. Créez un compte sur [elephantsql.com](https://www.elephantsql.com/)\n",
        "2. Créez une instance \"Tiny Turtle\" (gratuite)\n",
        "3. Récupérez vos credentials\n",
        "\n",
        "**Option 2 : Supabase (500MB gratuit)**\n",
        "1. Créez un compte sur [supabase.com](https://supabase.com/)\n",
        "2. Créez un nouveau projet\n",
        "3. Récupérez l'URL de connexion PostgreSQL"
      ]
    },
    {
      "cell_type": "code",
      "execution_count": 4,
      "metadata": {
        "id": "ytLvCF3fQxRJ"
      },
      "outputs": [
        {
          "name": "stdout",
          "output_type": "stream",
          "text": [
            "\n",
            "Connexion réussie !\n",
            "Version PostgreSQL : 17.4\n"
          ]
        }
      ],
      "source": [
        "\n",
        "# Configuration\n",
        "DATABASE_CONFIG = {\n",
        "    'host':     os.getenv('SUPABASE_HOST'),\n",
        "    'database': os.getenv('SUPABASE_DATABASE'),\n",
        "    'user':     os.getenv('SUPABASE_USER'),\n",
        "    'password': os.getenv('SUPABASE_PASSWORD'),\n",
        "    'port':     os.getenv('SUPABASE_PORT')\n",
        "}\n",
        "\n",
        "# URL SQLAlchemy\n",
        "DATABASE_URL = (\n",
        "    f\"postgresql://{DATABASE_CONFIG['user']}:{DATABASE_CONFIG['password']}@\"\n",
        "    f\"{DATABASE_CONFIG['host']}:{DATABASE_CONFIG['port']}/{DATABASE_CONFIG['database']}\"\n",
        ")\n",
        "\n",
        "# Création de l'engine\n",
        "engine = create_engine(DATABASE_URL)\n",
        "\n",
        "# Test de connexion\n",
        "def test_connection():\n",
        "    try:\n",
        "        version = pd.read_sql(\"SELECT version();\", engine).iloc[0, 0]\n",
        "        print(\"\\nConnexion réussie !\")\n",
        "        print(\"Version PostgreSQL :\", version.split()[1])\n",
        "    except Exception as e:\n",
        "        print(f\"\\nErreur de connexion : {e}\")\n",
        "\n",
        "# Lancer le test\n",
        "test_connection()\n"
      ]
    },
    {
      "cell_type": "code",
      "execution_count": 5,
      "metadata": {},
      "outputs": [
        {
          "name": "stdout",
          "output_type": "stream",
          "text": [
            "customers    :  99441 lignes ×  5 colonnes\n",
            "orders       :  99441 lignes ×  8 colonnes\n",
            "order_items  : 112650 lignes ×  7 colonnes\n",
            "products     :  32951 lignes ×  9 colonnes\n",
            "sellers      :   3095 lignes ×  4 colonnes\n"
          ]
        }
      ],
      "source": [
        "\n",
        "\n",
        "# Chemin vers le dossier contenant les CSV\n",
        "DATA_DIR = \".\"  # à adapter si tes fichiers sont dans un sous-dossier\n",
        "\n",
        "csv_files = {\n",
        "    \"customers\": \"olist_customers_dataset.csv\",\n",
        "    \"orders\": \"olist_orders_dataset.csv\",\n",
        "    \"order_items\": \"olist_order_items_dataset.csv\",\n",
        "    \"products\": \"olist_products_dataset.csv\",\n",
        "    \"sellers\": \"olist_sellers_dataset.csv\"\n",
        "}\n",
        "\n",
        "# Dictionnaire qui contiendra les 5 DataFrames\n",
        "dfs = {}\n",
        "\n",
        "for name, file in csv_files.items():\n",
        "    path = os.path.join(DATA_DIR, file)\n",
        "    dfs[name] = pd.read_csv(path)\n",
        "    print(f\"{name:<12} : {dfs[name].shape[0]:>6} lignes × {dfs[name].shape[1]:>2} colonnes\")\n",
        "\n"
      ]
    },
    {
      "cell_type": "code",
      "execution_count": 6,
      "metadata": {},
      "outputs": [
        {
          "name": "stdout",
          "output_type": "stream",
          "text": [
            "\n",
            "Données manquantes dans : customers\n",
            "Aucune valeur manquante\n",
            "\n",
            "Données manquantes dans : orders\n",
            "order_approved_at              : 160 valeur(s) manquante(s)\n",
            "order_delivered_carrier_date   : 1783 valeur(s) manquante(s)\n",
            "order_delivered_customer_date  : 2965 valeur(s) manquante(s)\n",
            "\n",
            "Données manquantes dans : order_items\n",
            "Aucune valeur manquante\n",
            "\n",
            "Données manquantes dans : products\n",
            "product_category_name          : 610 valeur(s) manquante(s)\n",
            "product_name_lenght            : 610 valeur(s) manquante(s)\n",
            "product_description_lenght     : 610 valeur(s) manquante(s)\n",
            "product_photos_qty             : 610 valeur(s) manquante(s)\n",
            "product_weight_g               : 2 valeur(s) manquante(s)\n",
            "product_length_cm              : 2 valeur(s) manquante(s)\n",
            "product_height_cm              : 2 valeur(s) manquante(s)\n",
            "product_width_cm               : 2 valeur(s) manquante(s)\n",
            "\n",
            "Données manquantes dans : sellers\n",
            "Aucune valeur manquante\n"
          ]
        }
      ],
      "source": [
        "## Exploration 2\n",
        "# Explorer les valeurs manquantes pour chaque DataFrame\n",
        "for name, df in dfs.items():\n",
        "    print(f\"\\nDonnées manquantes dans : {name}\")\n",
        "    missing = df.isnull().sum()\n",
        "    missing = missing[missing > 0]\n",
        "    if missing.empty:\n",
        "        print(\"Aucune valeur manquante\")\n",
        "    else:\n",
        "        for col, count in missing.items():\n",
        "            print(f\"{col:<30} : {count} valeur(s) manquante(s)\")"
      ]
    },
    {
      "cell_type": "code",
      "execution_count": 7,
      "metadata": {},
      "outputs": [
        {
          "name": "stdout",
          "output_type": "stream",
          "text": [
            "\n",
            "Structure du fichier : customers\n",
            "customer_id                         : object\n",
            "customer_unique_id                  : object\n",
            "customer_zip_code_prefix            : int64\n",
            "customer_city                       : object\n",
            "customer_state                      : object\n",
            "\n",
            "Structure du fichier : orders\n",
            "order_id                            : object\n",
            "customer_id                         : object\n",
            "order_status                        : object\n",
            "order_purchase_timestamp            : object\n",
            "order_approved_at                   : object\n",
            "order_delivered_carrier_date        : object\n",
            "order_delivered_customer_date       : object\n",
            "order_estimated_delivery_date       : object\n",
            "\n",
            "Structure du fichier : order_items\n",
            "order_id                            : object\n",
            "order_item_id                       : int64\n",
            "product_id                          : object\n",
            "seller_id                           : object\n",
            "shipping_limit_date                 : object\n",
            "price                               : float64\n",
            "freight_value                       : float64\n",
            "\n",
            "Structure du fichier : products\n",
            "product_id                          : object\n",
            "product_category_name               : object\n",
            "product_name_lenght                 : float64\n",
            "product_description_lenght          : float64\n",
            "product_photos_qty                  : float64\n",
            "product_weight_g                    : float64\n",
            "product_length_cm                   : float64\n",
            "product_height_cm                   : float64\n",
            "product_width_cm                    : float64\n",
            "\n",
            "Structure du fichier : sellers\n",
            "seller_id                           : object\n",
            "seller_zip_code_prefix              : int64\n",
            "seller_city                         : object\n",
            "seller_state                        : object\n"
          ]
        }
      ],
      "source": [
        "# Afficher le nom et le type de chaque colonne dans chaque CSV\n",
        "for name, df in dfs.items():\n",
        "    print(f\"\\nStructure du fichier : {name}\")\n",
        "    for col, dtype in df.dtypes.items():\n",
        "        print(f\"{col:<35} : {dtype}\")\n"
      ]
    },
    {
      "cell_type": "code",
      "execution_count": 8,
      "metadata": {},
      "outputs": [],
      "source": [
        "######### Suppression des colonnes inutiles ##########\n",
        "\n",
        "# Customers\n",
        "dfs[\"customers\"].drop(columns=\"customer_unique_id\", inplace=True)\n",
        "dfs[\"customers\"].drop(columns=\"customer_zip_code_prefix\", inplace=True)\n",
        "\n",
        "# Orders\n",
        "dfs[\"orders\"].drop(columns=\"order_approved_at\", inplace=True)\n",
        "dfs[\"orders\"].drop(columns=\"order_delivered_carrier_date\", inplace=True)\n",
        "dfs[\"orders\"].drop(columns=\"order_estimated_delivery_date\", inplace=True)\n",
        "\n",
        "# Order_items\n",
        "dfs[\"order_items\"].drop(columns=\"shipping_limit_date\", inplace=True)\n",
        "dfs[\"order_items\"].drop(columns=\"order_item_id\", inplace=True)\n",
        "\n",
        "# Products\n",
        "dfs[\"products\"].drop(columns=\"product_name_lenght\", inplace=True)\n",
        "dfs[\"products\"].drop(columns=\"product_description_lenght\", inplace=True)\n",
        "dfs[\"products\"].drop(columns=\"product_photos_qty\", inplace=True)\n",
        "dfs[\"products\"].drop(columns=\"product_length_cm\", inplace=True)\n",
        "dfs[\"products\"].drop(columns=\"product_height_cm\", inplace=True)\n",
        "dfs[\"products\"].drop(columns=\"product_width_cm\", inplace=True)\n",
        "\n",
        "# Sellers\n",
        "dfs[\"sellers\"].drop(columns=\"seller_zip_code_prefix\", inplace=True)\n",
        "\n",
        "\n",
        "\n",
        "\n",
        "######### Rename des colonnes ##########\n",
        "\n",
        "# Orders \n",
        "dfs[\"orders\"].rename(columns={\"order_purchase_timestamp\": \"order_date\"}, inplace=True)\n",
        "dfs[\"orders\"].rename(columns={\"order_delivered_customer_date\": \"order_delivered_date\"}, inplace=True)\n",
        "\n",
        "# Products\n",
        "dfs[\"products\"].rename(columns={\"product_category_name\": \"product_category\"}, inplace=True)\n",
        "\n"
      ]
    },
    {
      "cell_type": "code",
      "execution_count": 9,
      "metadata": {},
      "outputs": [
        {
          "name": "stdout",
          "output_type": "stream",
          "text": [
            "\n",
            "Données manquantes dans : customers\n",
            "Aucune valeur manquante\n",
            "\n",
            "Données manquantes dans : orders\n",
            "order_delivered_date           : 2965 valeur(s) manquante(s)\n",
            "\n",
            "Données manquantes dans : order_items\n",
            "Aucune valeur manquante\n",
            "\n",
            "Données manquantes dans : products\n",
            "product_category               : 610 valeur(s) manquante(s)\n",
            "product_weight_g               : 2 valeur(s) manquante(s)\n",
            "\n",
            "Données manquantes dans : sellers\n",
            "Aucune valeur manquante\n"
          ]
        }
      ],
      "source": [
        "## Exploration 2\n",
        "# Explorer les valeurs manquantes pour chaque DataFrame\n",
        "for name, df in dfs.items():\n",
        "    print(f\"\\nDonnées manquantes dans : {name}\")\n",
        "    missing = df.isnull().sum()\n",
        "    missing = missing[missing > 0]\n",
        "    if missing.empty:\n",
        "        print(\"Aucune valeur manquante\")\n",
        "    else:\n",
        "        for col, count in missing.items():\n",
        "            print(f\"{col:<30} : {count} valeur(s) manquante(s)\")"
      ]
    },
    {
      "cell_type": "code",
      "execution_count": 10,
      "metadata": {},
      "outputs": [],
      "source": [
        "# Supprimer les lignes où la colonne 'product_category' est vide\n",
        "dfs[\"products\"].dropna(subset=[\"product_category\"], inplace=True)\n",
        "\n",
        "\n",
        "# Supprimer les lignes où la colonne 'product_weight_g' est vide\n",
        "dfs[\"products\"].dropna(subset=[\"product_weight_g\"], inplace=True)"
      ]
    },
    {
      "cell_type": "code",
      "execution_count": 11,
      "metadata": {},
      "outputs": [
        {
          "name": "stdout",
          "output_type": "stream",
          "text": [
            "\n",
            "Données manquantes dans : customers\n",
            "Aucune valeur manquante\n",
            "\n",
            "Données manquantes dans : orders\n",
            "order_delivered_date           : 2965 valeur(s) manquante(s)\n",
            "\n",
            "Données manquantes dans : order_items\n"
          ]
        },
        {
          "name": "stdout",
          "output_type": "stream",
          "text": [
            "Aucune valeur manquante\n",
            "\n",
            "Données manquantes dans : products\n",
            "Aucune valeur manquante\n",
            "\n",
            "Données manquantes dans : sellers\n",
            "Aucune valeur manquante\n"
          ]
        }
      ],
      "source": [
        "## Exploration 3\n",
        "# Explorer les valeurs manquantes pour chaque DataFrame\n",
        "for name, df in dfs.items():\n",
        "    print(f\"\\nDonnées manquantes dans : {name}\")\n",
        "    missing = df.isnull().sum()\n",
        "    missing = missing[missing > 0]\n",
        "    if missing.empty:\n",
        "        print(\"Aucune valeur manquante\")\n",
        "    else:\n",
        "        for col, count in missing.items():\n",
        "            print(f\"{col:<30} : {count} valeur(s) manquante(s)\")\n",
        "\n",
        "\n",
        "\n",
        "### On conserve les données manquantes dans order_delivered_date car il est tout \n",
        "### à fait possible de ne pas encore avoir réceptionné son colis"
      ]
    },
    {
      "cell_type": "code",
      "execution_count": 12,
      "metadata": {},
      "outputs": [],
      "source": [
        "# Conversion des colonnes en datetime (timestamp)\n",
        "dfs[\"orders\"][\"order_date\"] = pd.to_datetime(dfs[\"orders\"][\"order_date\"])\n",
        "dfs[\"orders\"][\"order_delivered_date\"] = pd.to_datetime(dfs[\"orders\"][\"order_delivered_date\"])"
      ]
    },
    {
      "cell_type": "code",
      "execution_count": 13,
      "metadata": {},
      "outputs": [
        {
          "name": "stdout",
          "output_type": "stream",
          "text": [
            "\n",
            "Structure du fichier : customers\n",
            "customer_id                         : object\n",
            "customer_city                       : object\n",
            "customer_state                      : object\n",
            "\n",
            "Structure du fichier : orders\n",
            "order_id                            : object\n",
            "customer_id                         : object\n",
            "order_status                        : object\n",
            "order_date                          : datetime64[ns]\n",
            "order_delivered_date                : datetime64[ns]\n",
            "\n",
            "Structure du fichier : order_items\n",
            "order_id                            : object\n",
            "product_id                          : object\n",
            "seller_id                           : object\n",
            "price                               : float64\n",
            "freight_value                       : float64\n",
            "\n",
            "Structure du fichier : products\n",
            "product_id                          : object\n",
            "product_category                    : object\n",
            "product_weight_g                    : float64\n",
            "\n",
            "Structure du fichier : sellers\n",
            "seller_id                           : object\n",
            "seller_city                         : object\n",
            "seller_state                        : object\n"
          ]
        }
      ],
      "source": [
        "# Afficher le nom et le type de chaque colonne dans chaque CSV\n",
        "for name, df in dfs.items():\n",
        "    print(f\"\\nStructure du fichier : {name}\")\n",
        "    for col, dtype in df.dtypes.items():\n",
        "        print(f\"{col:<35} : {dtype}\")"
      ]
    },
    {
      "cell_type": "code",
      "execution_count": 14,
      "metadata": {},
      "outputs": [
        {
          "name": "stdout",
          "output_type": "stream",
          "text": [
            "Produits absents de 'products' : 1604\n",
            "Aperçu de quelques product_id manquants : ['ff6caf9340512b8bf6d2a2a6df032cfa' 'a9c404971d1a5b1cbc2e4070e02731fd'\n",
            " '5a848e4ab52fd5445cdc07aab1c40e48' '41eee23c25f7a574dfaf8d5c151dbb12'\n",
            " 'e10758160da97891c2fdcbc35f0f031d' '76d1a1a9d21ab677a61c3ae34b1b352f'\n",
            " 'fbb1cfc2810efabf3235eccf4530f4ae' '9f69acd4da62618a3f6365b732d00ccd'\n",
            " 'ea11e700a343582ad56e4c70e966cb36' '8c0bd0d6526379599b74a3a006d4c124']\n"
          ]
        }
      ],
      "source": [
        "# Récupération depuis le dictionnaire\n",
        "df_order_items = dfs[\"order_items\"]\n",
        "df_products = dfs[\"products\"]\n",
        "\n",
        "# Détection des produits orphelins (absents de la table products)\n",
        "orphans = df_order_items[~df_order_items[\"product_id\"].isin(df_products[\"product_id\"])]\n",
        "\n",
        "print(f\"Produits absents de 'products' : {len(orphans)}\")\n",
        "print(\"Aperçu de quelques product_id manquants :\", orphans[\"product_id\"].unique()[:10])\n"
      ]
    },
    {
      "cell_type": "code",
      "execution_count": 15,
      "metadata": {},
      "outputs": [],
      "source": [
        "df_order_items = dfs[\"order_items\"]\n",
        "df_products = dfs[\"products\"]\n",
        "\n",
        "# Ne garder que les order_items avec un product_id présent dans products\n",
        "df_order_items_filtered = df_order_items[df_order_items[\"product_id\"].isin(df_products[\"product_id\"])]\n",
        "\n",
        "# Mise à jour dans le dictionnaire\n",
        "dfs[\"order_items\"] = df_order_items_filtered\n"
      ]
    },
    {
      "cell_type": "code",
      "execution_count": 16,
      "metadata": {},
      "outputs": [
        {
          "name": "stdout",
          "output_type": "stream",
          "text": [
            "object\n",
            "object\n"
          ]
        }
      ],
      "source": [
        "print(df_order_items_filtered[\"product_id\"].dtype)\n",
        "print(df_products[\"product_id\"].dtype)"
      ]
    },
    {
      "cell_type": "code",
      "execution_count": 17,
      "metadata": {},
      "outputs": [
        {
          "name": "stdout",
          "output_type": "stream",
          "text": [
            "Produits absents de 'products' : 0\n",
            "Aperçu de quelques product_id manquants : []\n"
          ]
        }
      ],
      "source": [
        "# Récupération depuis le dictionnaire\n",
        "df_order_items = dfs[\"order_items\"]\n",
        "df_products = dfs[\"products\"]\n",
        "\n",
        "# Détection des produits orphelins (absents de la table products)\n",
        "orphans = df_order_items[~df_order_items[\"product_id\"].isin(df_products[\"product_id\"])]\n",
        "\n",
        "print(f\"Produits absents de 'products' : {len(orphans)}\")\n",
        "print(\"Aperçu de quelques product_id manquants :\", orphans[\"product_id\"].unique()[:10])\n"
      ]
    },
    {
      "cell_type": "code",
      "execution_count": 18,
      "metadata": {},
      "outputs": [
        {
          "name": "stdout",
          "output_type": "stream",
          "text": [
            "count    32340.000000\n",
            "mean      2276.956586\n",
            "std       4279.291845\n",
            "min          0.000000\n",
            "25%        300.000000\n",
            "50%        700.000000\n",
            "75%       1900.000000\n",
            "max      40425.000000\n",
            "Name: product_weight_g, dtype: float64\n",
            "count    111046.000000\n",
            "mean        120.762337\n",
            "std         183.339790\n",
            "min           0.850000\n",
            "25%          39.900000\n",
            "50%          74.990000\n",
            "75%         134.900000\n",
            "max        6735.000000\n",
            "Name: price, dtype: float64\n"
          ]
        }
      ],
      "source": [
        "# Etudier le poids des colis\n",
        "stats = df_products[\"product_weight_g\"].describe()\n",
        "print(stats)\n",
        "\n",
        "\n",
        "# Etudier les prix des produits\n",
        "stats = df_order_items[\"price\"].describe()\n",
        "print(stats)\n"
      ]
    },
    {
      "cell_type": "markdown",
      "metadata": {
        "id": "uXfOgAxGQ3b5"
      },
      "source": [
        "\n",
        "## Partie 2 : Import du dataset e-commerce\n",
        "\n",
        "### 📊 Dataset Brazilian E-Commerce\n",
        "Nous utilisons le célèbre dataset Olist (100k commandes réelles).\n",
        "\n",
        "**Tables à créer :**\n",
        "1. **customers** : customer_id, customer_city, customer_state\n",
        "2. **orders** : order_id, customer_id, order_status, order_date, order_delivered_date\n",
        "3. **order_items** : order_id, product_id, seller_id, price, freight_value\n",
        "4. **products** : product_id, product_category, product_weight_g\n",
        "5. **sellers** : seller_id, seller_city, seller_state"
      ]
    },
    {
      "cell_type": "code",
      "execution_count": 19,
      "metadata": {
        "id": "GqGIXooNSTjp"
      },
      "outputs": [],
      "source": [
        "# ### 🗃️ Création des tables SQL\n",
        "\n",
        "\n",
        "# def create_tables():\n",
        "#     create_customers = \"\"\"\n",
        "#     CREATE TABLE IF NOT EXISTS customers (\n",
        "#         customer_id VARCHAR(50) PRIMARY KEY,\n",
        "#         customer_city VARCHAR(100),\n",
        "#         customer_state VARCHAR(2),\n",
        "#         created_at TIMESTAMP DEFAULT CURRENT_TIMESTAMP\n",
        "#     );\n",
        "#     \"\"\"\n",
        "\n",
        "#     create_orders = \"\"\"\n",
        "#     CREATE TABLE IF NOT EXISTS orders (\n",
        "#         order_id VARCHAR(50) PRIMARY KEY,\n",
        "#         customer_id VARCHAR(50) REFERENCES customers(customer_id),\n",
        "#         order_status VARCHAR(20),\n",
        "#         order_date TIMESTAMP,\n",
        "#         order_delivered_date TIMESTAMP,\n",
        "#         created_at TIMESTAMP DEFAULT CURRENT_TIMESTAMP\n",
        "#     );\n",
        "#     CREATE INDEX IF NOT EXISTS idx_orders_customer_id ON orders(customer_id);\n",
        "#     \"\"\"\n",
        "\n",
        "#     create_products = \"\"\"\n",
        "#     CREATE TABLE IF NOT EXISTS products (\n",
        "#         product_id VARCHAR(50) PRIMARY KEY,\n",
        "#         product_category VARCHAR(100),\n",
        "#         product_weight_g INTEGER CHECK (product_weight_g >= 0),\n",
        "#         created_at TIMESTAMP DEFAULT CURRENT_TIMESTAMP\n",
        "#     );\n",
        "#     \"\"\"\n",
        "\n",
        "#     create_sellers = \"\"\"\n",
        "#     CREATE TABLE IF NOT EXISTS sellers (\n",
        "#         seller_id VARCHAR(50) PRIMARY KEY,\n",
        "#         seller_city VARCHAR(100),\n",
        "#         seller_state VARCHAR(2),\n",
        "#         created_at TIMESTAMP DEFAULT CURRENT_TIMESTAMP\n",
        "#     );\n",
        "#     \"\"\"\n",
        "\n",
        "#     create_order_items = \"\"\"\n",
        "#     CREATE TABLE IF NOT EXISTS order_items (\n",
        "#         order_item_id SERIAL PRIMARY KEY,\n",
        "#         order_id VARCHAR(50) REFERENCES orders(order_id),\n",
        "#         product_id VARCHAR(50) REFERENCES products(product_id),\n",
        "#         seller_id VARCHAR(50) REFERENCES sellers(seller_id),\n",
        "#         price NUMERIC(10, 2) CHECK (price >= 0),\n",
        "#         freight_value NUMERIC(10, 2) CHECK (freight_value >= 0),\n",
        "#         created_at TIMESTAMP DEFAULT CURRENT_TIMESTAMP\n",
        "#     );\n",
        "#     CREATE INDEX IF NOT EXISTS idx_items_order_id ON order_items(order_id);\n",
        "#     CREATE INDEX IF NOT EXISTS idx_items_product_id ON order_items(product_id);\n",
        "#     CREATE INDEX IF NOT EXISTS idx_items_seller_id ON order_items(seller_id);\n",
        "#     \"\"\"\n",
        "\n",
        "#     with engine.connect() as conn:\n",
        "#         conn.execute(text(create_customers))\n",
        "#         conn.execute(text(create_products))\n",
        "#         conn.execute(text(create_sellers))\n",
        "#         conn.execute(text(create_orders))\n",
        "#         conn.execute(text(create_order_items))\n",
        "#         conn.commit()\n",
        "\n",
        "\n",
        "# create_tables()\n",
        "\n",
        "\n"
      ]
    },
    {
      "cell_type": "code",
      "execution_count": 20,
      "metadata": {},
      "outputs": [],
      "source": [
        "\n",
        "# # Assurer que les IDs sont tous en str et bien nettoyés\n",
        "# df_products[\"product_id\"] = df_products[\"product_id\"].astype(str).str.strip()\n",
        "# df_order_items[\"product_id\"] = df_order_items[\"product_id\"].astype(str).str.strip()\n",
        "\n",
        "# # Filtrage des order_items sur ceux dont les product_id existent bien dans products\n",
        "# df_order_items_filtered = df_order_items[df_order_items[\"product_id\"].isin(df_products[\"product_id\"])]\n",
        "\n",
        "# # Vérif : y a-t-il encore des orphelins ?\n",
        "# orphans = df_order_items[~df_order_items[\"product_id\"].isin(df_products[\"product_id\"])]\n",
        "# if not orphans.empty:\n",
        "#     print(\"Produits orphelins détectés dans order_items :\")\n",
        "#     print(orphans[\"product_id\"].unique())\n",
        "# else:\n",
        "#     print(\"Aucun produit orphelin détecté.\")\n",
        "\n",
        "# # Mise à jour du dictionnaire\n",
        "# dfs[\"order_items\"] = df_order_items_filtered\n",
        "# dfs[\"products\"] = df_products  # Si jamais modifié\n",
        "\n"
      ]
    },
    {
      "cell_type": "code",
      "execution_count": 21,
      "metadata": {},
      "outputs": [],
      "source": [
        "# Envoi de la donnée vers SUPABASE\n",
        "# ordered_table_names = [\"products\", \"customers\", \"orders\", \"sellers\", \"order_items\"]\n",
        "\n",
        "# for table_name in ordered_table_names:\n",
        "#     df = dfs[table_name]\n",
        "#     try:\n",
        "#         print(f\"\\nInsertion dans la table : {table_name}\")\n",
        "#         df.to_sql(\n",
        "#             name=table_name,\n",
        "#             con=engine,\n",
        "#             if_exists=\"append\",\n",
        "#             index=False,\n",
        "#             method=\"multi\"\n",
        "#         )\n",
        "#         print(\"Insertion réussie\")\n",
        "#     except SQLAlchemyError as e:\n",
        "#         print(f\"Erreur d'insertion dans '{table_name}' : {e}\")\n",
        "\n"
      ]
    },
    {
      "cell_type": "markdown",
      "metadata": {
        "id": "OBQ_BY-QT4dO"
      },
      "source": [
        "## Partie 3 : Requêtes SQL avancées\n",
        "\n",
        "\n",
        "### 🔍 Analyses SQL à implémenter"
      ]
    },
    {
      "cell_type": "markdown",
      "metadata": {
        "id": "tdl5RNOBUAV2"
      },
      "source": [
        "#### 1. Analyse RFM (Récence, Fréquence, Montant)\n",
        "```sql\n",
        "-- Votre défi : Calculer les métriques RFM pour chaque client\n",
        "WITH customer_metrics AS (\n",
        "    SELECT\n",
        "        c.customer_id,\n",
        "        c.customer_state,\n",
        "        -- Récence : jours depuis dernier achat\n",
        "        DATE_PART('day', CURRENT_DATE - MAX(o.order_delivered_date)) AS recency,\n",
        "        -- Fréquence : nombre de commandes\n",
        "        COUNT(DISTINCT o.order_id) AS frequency,\n",
        "        -- Montant : total dépensé\n",
        "        SUM(oi.price) AS monetary\n",
        "        -- Complétez cette requête CTE\n",
        "    FROM customers c\n",
        "    JOIN orders o ON c.customer_id = o.customer_id\n",
        "    JOIN order_items oi ON o.order_id = oi.order_id\n",
        "    WHERE o.order_status = 'delivered'\n",
        "    GROUP BY c.customer_id, c.customer_state\n",
        "),\n",
        "\n",
        "-- Créez les segments RFM (Champions, Loyaux, À risque, etc.)\n",
        "scored_customers AS (\n",
        "    SELECT\n",
        "        customer_id,\n",
        "        customer_state,\n",
        "        recency,\n",
        "        frequency,\n",
        "        monetary,\n",
        "        \n",
        "        NTILE(5) OVER (ORDER BY recency ASC) AS recency_score,      -- plus petit = meilleur\n",
        "        NTILE(5) OVER (ORDER BY frequency DESC) AS frequency_score, -- plus grand = meilleur\n",
        "        NTILE(5) OVER (ORDER BY monetary DESC) AS monetary_score\n",
        "    FROM customer_metrics\n",
        ")\n",
        "\n",
        "-- Segmentation selon les scores\n",
        "SELECT\n",
        "    customer_id,\n",
        "    customer_state,\n",
        "    recency,\n",
        "    frequency,\n",
        "    monetary,\n",
        "    recency_score,\n",
        "    frequency_score,\n",
        "    monetary_score,\n",
        "    CASE\n",
        "        WHEN recency_score = 5 AND frequency_score = 5 THEN 'Champions'\n",
        "        WHEN recency_score >= 4 AND frequency_score >= 4 THEN 'Loyal Customers'\n",
        "        WHEN recency_score <= 2 AND frequency_score >= 4 THEN 'À relancer'\n",
        "        WHEN recency_score >= 4 AND frequency_score <= 2 THEN 'Clients récents'\n",
        "        WHEN monetary_score >= 4 THEN 'Clients rentables'\n",
        "        ELSE 'Others'\n",
        "    END AS customer_segment\n",
        "FROM scored_customers;\n",
        "\n",
        "```"
      ]
    },
    {
      "cell_type": "code",
      "execution_count": 22,
      "metadata": {},
      "outputs": [],
      "source": [
        "#### 2. Analyse géographique des ventes"
      ]
    },
    {
      "cell_type": "code",
      "execution_count": 23,
      "metadata": {
        "id": "TWF9rpZSUMp5"
      },
      "outputs": [
        {
          "name": "stdout",
          "output_type": "stream",
          "text": [
            "  customer_state  total_sales\n",
            "0             SP   5004752.07\n",
            "1             RJ   1736924.95\n",
            "2             MG   1534496.09\n",
            "3             RS    719067.86\n",
            "4             PR    657744.28\n",
            "5             SC    500030.47\n",
            "6             BA    487660.19\n",
            "7             DF    293919.59\n",
            "8             GO    274306.59\n",
            "9             ES    267029.18\n"
          ]
        },
        {
          "name": "stderr",
          "output_type": "stream",
          "text": [
            "/tmp/ipykernel_749/2492605301.py:23: FutureWarning: \n",
            "\n",
            "Passing `palette` without assigning `hue` is deprecated and will be removed in v0.14.0. Assign the `x` variable to `hue` and set `legend=False` for the same effect.\n",
            "\n",
            "  sns.barplot(data=df, x=\"customer_state\", y=\"total_sales\", palette=\"viridis\")\n"
          ]
        },
        {
          "data": {
            "image/png": "[encoded data removed]",
            "text/plain": [
              "<Figure size 1000x600 with 1 Axes>"
            ]
          },
          "metadata": {},
          "output_type": "display_data"
        }
      ],
      "source": [
        "\n",
        "#     1. Top 10 des états par CA\n",
        "query = \"\"\"\n",
        "SELECT\n",
        "    c.customer_state,\n",
        "    SUM(oi.price) AS total_sales\n",
        "FROM customers c\n",
        "JOIN orders o ON c.customer_id = o.customer_id\n",
        "JOIN order_items oi ON o.order_id = oi.order_id\n",
        "WHERE o.order_status = 'delivered'\n",
        "GROUP BY c.customer_state\n",
        "ORDER BY total_sales DESC\n",
        "LIMIT 10;\n",
        "\"\"\"\n",
        "\n",
        "# Récupération des données\n",
        "df = pd.read_sql(text(query), engine)\n",
        "\n",
        "# Affichage DataFrame\n",
        "print(df)\n",
        "\n",
        "# Visualisation\n",
        "plt.figure(figsize=(10, 6))\n",
        "sns.barplot(data=df, x=\"customer_state\", y=\"total_sales\", palette=\"viridis\")\n",
        "plt.title(\"Top 10 des états par chiffre d'affaires\")\n",
        "plt.xlabel(\"État\")\n",
        "plt.ylabel(\"Chiffre d'affaires (en R$)\")\n",
        "plt.xticks(rotation=45)\n",
        "plt.tight_layout()\n",
        "plt.show()"
      ]
    },
    {
      "cell_type": "code",
      "execution_count": 24,
      "metadata": {},
      "outputs": [
        {
          "name": "stdout",
          "output_type": "stream",
          "text": [
            "  region      month  total_revenue  prev_month_revenue  mom_growth_pct\n",
            "0     AC 2017-02-01         723.14                 NaN             NaN\n",
            "1     AC 2017-03-01        1127.58              723.14           55.93\n",
            "2     AC 2017-05-01        3321.67             1127.58          194.58\n",
            "3     AC 2017-06-01         441.59             3321.67          -86.71\n",
            "4     AC 2017-07-01         851.77              441.59           92.89\n"
          ]
        },
        {
          "data": {
            "image/png": "[encoded data removed]",
            "text/plain": [
              "<Figure size 1200x600 with 1 Axes>"
            ]
          },
          "metadata": {},
          "output_type": "display_data"
        }
      ],
      "source": [
        "# # #     2. Croissance MoM par région\n",
        "query = \"\"\"\n",
        "WITH monthly_sales AS (\n",
        "    SELECT\n",
        "        date_trunc('month', o.order_delivered_date)      AS month,\n",
        "        c.customer_state                                 AS region,\n",
        "        SUM(oi.price + COALESCE(oi.freight_value, 0))    AS total_revenue\n",
        "    FROM orders        o\n",
        "    JOIN customers     c ON c.customer_id = o.customer_id\n",
        "    JOIN order_items   oi ON oi.order_id = o.order_id\n",
        "    WHERE o.order_status = 'delivered'\n",
        "      AND o.order_delivered_date IS NOT NULL\n",
        "    GROUP BY 1, 2\n",
        "),\n",
        "mom_growth AS (\n",
        "    SELECT\n",
        "        region,\n",
        "        month,\n",
        "        total_revenue,\n",
        "        LAG(total_revenue) OVER (PARTITION BY region ORDER BY month) AS prev_month_revenue,\n",
        "        ROUND(\n",
        "            (total_revenue - LAG(total_revenue) OVER (PARTITION BY region ORDER BY month))\n",
        "            / NULLIF(LAG(total_revenue) OVER (PARTITION BY region ORDER BY month), 0) * 100,\n",
        "            2\n",
        "        ) AS mom_growth_pct\n",
        "    FROM monthly_sales\n",
        ")\n",
        "SELECT *\n",
        "FROM mom_growth\n",
        "ORDER BY region, month;\n",
        "\"\"\"\n",
        "\n",
        "# Exécution de la requête\n",
        "df = pd.read_sql(text(query), engine)\n",
        "\n",
        "# Affichage rapide\n",
        "print(df.head())      # <-- pour vérifier qu’il y a bien des données\n",
        "\n",
        "plt.figure(figsize=(12,6))\n",
        "sns.lineplot(data=df, x='month', y='mom_growth_pct', hue='region', marker='o')\n",
        "plt.title('Croissance MoM du chiffre d’affaires par région')\n",
        "plt.ylabel('Croissance MoM (%)')\n",
        "plt.xlabel('Mois')\n",
        "plt.legend(title='Région')\n",
        "plt.tight_layout()\n",
        "plt.show()"
      ]
    },
    {
      "cell_type": "code",
      "execution_count": 25,
      "metadata": {},
      "outputs": [
        {
          "name": "stdout",
          "output_type": "stream",
          "text": [
            "  customer_city  delivered_orders  total_orders  conversion_rate_pct\n",
            "0       corinto              11.0            11                100.0\n",
            "1        osorio              35.0            35                100.0\n",
            "2       cacador              40.0            40                100.0\n",
            "3       tabapua              12.0            12                100.0\n",
            "4      pitangui              22.0            22                100.0\n"
          ]
        },
        {
          "name": "stderr",
          "output_type": "stream",
          "text": [
            "/tmp/ipykernel_749/3675517473.py:29: FutureWarning: \n",
            "\n",
            "Passing `palette` without assigning `hue` is deprecated and will be removed in v0.14.0. Assign the `y` variable to `hue` and set `legend=False` for the same effect.\n",
            "\n",
            "  sns.barplot(data=df.head(20), x='conversion_rate_pct', y='customer_city', palette='viridis')\n"
          ]
        },
        {
          "data": {
            "image/png": "[encoded data removed]",
            "text/plain": [
              "<Figure size 1000x600 with 1 Axes>"
            ]
          },
          "metadata": {},
          "output_type": "display_data"
        }
      ],
      "source": [
        "# # #     3. Taux de conversion par ville\n",
        "query = \"\"\"\n",
        "WITH orders_by_city AS (\n",
        "    SELECT\n",
        "        c.customer_city,\n",
        "        COUNT(*) FILTER (WHERE o.order_status = 'delivered')::numeric AS delivered_orders,\n",
        "        COUNT(*) AS total_orders\n",
        "    FROM customers c\n",
        "    JOIN orders o ON c.customer_id = o.customer_id\n",
        "    GROUP BY c.customer_city\n",
        "),\n",
        "conversion AS (\n",
        "    SELECT\n",
        "        customer_city,\n",
        "        delivered_orders,\n",
        "        total_orders,\n",
        "        ROUND(delivered_orders / NULLIF(total_orders, 0) * 100, 2) AS conversion_rate_pct\n",
        "    FROM orders_by_city\n",
        ")\n",
        "SELECT *\n",
        "FROM conversion\n",
        "WHERE total_orders >= 10   -- optionnel, pour filtrer les villes avec trop peu de commandes\n",
        "ORDER BY conversion_rate_pct DESC;\n",
        "\"\"\"\n",
        "df = pd.read_sql(text(query), engine)\n",
        "print(df.head())\n",
        "\n",
        "plt.figure(figsize=(10,6))\n",
        "sns.barplot(data=df.head(20), x='conversion_rate_pct', y='customer_city', palette='viridis')\n",
        "plt.title(\"Top 20 villes par taux de conversion (≥10 commandes)\")\n",
        "plt.xlabel(\"Taux de conversion (%)\")\n",
        "plt.ylabel(\"Ville\")\n",
        "plt.tight_layout()\n",
        "plt.show()"
      ]
    },
    {
      "cell_type": "code",
      "execution_count": 26,
      "metadata": {},
      "outputs": [],
      "source": [
        "# #     4. Distance moyenne vendeur-acheteur  ON VERRA PLUS TARD"
      ]
    },
    {
      "cell_type": "code",
      "execution_count": 27,
      "metadata": {},
      "outputs": [
        {
          "name": "stdout",
          "output_type": "stream",
          "text": [
            "   customer_state  total_revenue  nb_orders  avg_basket_value\n",
            "0              SP     5698549.55      39963            142.60\n",
            "1              RJ     2028970.26      12168            166.75\n",
            "2              MG     1797743.07      11190            160.66\n",
            "3              RS      849575.14       5269            161.24\n",
            "4              PR      772074.76       4855            159.03\n",
            "5              SC      587090.24       3491            168.17\n",
            "6              BA      583637.01       3215            181.54\n",
            "7              DF      343004.77       2050            167.32\n",
            "8              GO      324676.46       1911            169.90\n",
            "9              ES      315753.20       1978            159.63\n",
            "10             PE      304173.33       1576            193.00\n",
            "11             CE      262979.78       1266            207.72\n",
            "12             PA      202713.37        929            218.21\n",
            "13             MT      179973.37        874            205.92\n",
            "14             MA      146095.79        709            206.06\n",
            "15             PB      134768.57        509            264.77\n",
            "16             MS      133591.54        692            193.05\n",
            "17             PI      104339.00        469            222.47\n",
            "18             RN       99952.54        468            213.57\n",
            "19             AL       93482.05        393            237.87\n",
            "20             SE       70066.09        333            210.41\n",
            "21             TO       59482.12        271            219.49\n",
            "22             RO       56150.74        238            235.93\n",
            "23             AM       26946.81        144            187.13\n",
            "24             AC       19447.99         78            249.33\n",
            "25             AP       16141.81         67            240.92\n",
            "26             RR        8737.70         39            224.04\n"
          ]
        }
      ],
      "source": [
        "#     -- Utilisez des JOINs et GROUP BY\n",
        "#     -- Calculez le CA, nombre de commandes, panier moyen\n",
        "query_top_states = \"\"\"\n",
        "WITH stats AS (\n",
        "    SELECT\n",
        "        c.customer_state,\n",
        "        SUM(oi.price + COALESCE(oi.freight_value, 0))      AS total_revenue,\n",
        "        COUNT(DISTINCT o.order_id)                         AS nb_orders,\n",
        "        ROUND(\n",
        "            SUM(oi.price + COALESCE(oi.freight_value, 0)) /\n",
        "            NULLIF(COUNT(DISTINCT o.order_id), 0),\n",
        "            2\n",
        "        )                                                  AS avg_basket_value\n",
        "    FROM orders        o\n",
        "    JOIN customers     c  ON c.customer_id = o.customer_id\n",
        "    JOIN order_items   oi ON oi.order_id   = o.order_id\n",
        "    WHERE o.order_status = 'delivered'\n",
        "    GROUP BY c.customer_state\n",
        ")\n",
        "SELECT *\n",
        "FROM stats\n",
        "ORDER BY total_revenue DESC;\n",
        "\"\"\"\n",
        "\n",
        "df = pd.read_sql(query_top_states, engine)\n",
        "print(df)          # <-- ajout du print"
      ]
    },
    {
      "cell_type": "markdown",
      "metadata": {
        "id": "7OE-UHLKY8-K"
      },
      "source": [
        "#### 3. Analyse temporelle et saisonnalité\n",
        "```sql\n",
        "-- Détectez les patterns saisonniers\n",
        "SELECT\n",
        "    EXTRACT(YEAR FROM order_date) as year,\n",
        "    EXTRACT(MONTH FROM order_date) as month,\n",
        "    EXTRACT(DOW FROM order_date) as day_of_week,\n",
        "    COUNT(*) as order_count,\n",
        "    SUM(price + freight_value) as total_revenue,\n",
        "    AVG(price + freight_value) as avg_order_value\n",
        "FROM orders o\n",
        "JOIN order_items oi ON o.order_id = oi.order_id\n",
        "WHERE order_status = 'delivered'\n",
        "GROUP BY ROLLUP(\n",
        "    EXTRACT(YEAR FROM order_date),\n",
        "    EXTRACT(MONTH FROM order_date),\n",
        "    EXTRACT(DOW FROM order_date)\n",
        ")\n",
        "ORDER BY year, month, day_of_week;\n",
        "```\n",
        "\n",
        "---"
      ]
    },
    {
      "cell_type": "code",
      "execution_count": null,
      "metadata": {},
      "outputs": [],
      "source": [
        "dico1 = {'pomme': 2, 'banane': 3}\n",
        "dico2 = {'banane': 5, 'orange': 4}"
      ]
    },
    {
      "cell_type": "markdown",
      "metadata": {
        "id": "Xq43e3mfZC8d"
      },
      "source": [
        "## Partie 4 : Analyse prédictive avec SQL\n",
        "\n",
        "### 🔮 Modèles simples en SQL"
      ]
    },
    {
      "cell_type": "code",
      "execution_count": null,
      "metadata": {
        "id": "bY5mfxFoaL2K"
      },
      "outputs": [],
      "source": [
        "#### 1. Prédiction de churn\n",
        "# Les diff indicateurs sauf le changement géographique\n",
        "# Petite requête qui recup nbr jour depuis dernier achat\n",
        "# Frequence d'achat\n",
        "# Prix moyen du panier\n",
        "def churn_prediction_sql():\n",
        "    \"\"\"\n",
        "    Identifiez les clients à risque de churn\n",
        "\n",
        "    Indicateurs :\n",
        "    - Pas d'achat depuis X jours\n",
        "    - Baisse de fréquence d'achat\n",
        "    - Diminution du panier moyen\n",
        "    - Changement de comportement géographique\n",
        "    \"\"\"\n",
        "\n",
        "    churn_query = \"\"\"\n",
        "    WITH customer_activity AS (\n",
        "        -- Calculez les métriques d'activité récente\n",
        "        -- Comparez avec l'historique du client\n",
        "        -- Scorez le risque de churn\n",
        "    )\n",
        "\n",
        "    SELECT\n",
        "        customer_id,\n",
        "        days_since_last_order,\n",
        "        order_frequency_trend,\n",
        "        monetary_trend,\n",
        "        churn_risk_score,\n",
        "        CASE\n",
        "            WHEN churn_risk_score > 0.7 THEN 'High Risk'\n",
        "            WHEN churn_risk_score > 0.4 THEN 'Medium Risk'\n",
        "            ELSE 'Low Risk'\n",
        "        END as churn_segment\n",
        "    FROM customer_activity;\n",
        "    \"\"\"\n",
        "\n",
        "    return pd.read_sql(churn_query, engine)\n"
      ]
    },
    {
      "cell_type": "markdown",
      "metadata": {
        "id": "IB2D1PDraVu4"
      },
      "source": [
        "#### 2. Recommandations produits\n",
        "```sql\n",
        "-- Market Basket Analysis simplifié\n",
        "WITH product_pairs AS (\n",
        "    SELECT\n",
        "        oi1.product_id as product_a,\n",
        "        oi2.product_id as product_b,\n",
        "        COUNT(*) as co_purchase_count\n",
        "    FROM order_items oi1\n",
        "    JOIN order_items oi2 ON oi1.order_id = oi2.order_id\n",
        "    WHERE oi1.product_id != oi2.product_id\n",
        "    GROUP BY oi1.product_id, oi2.product_id\n",
        "    HAVING COUNT(*) >= 10  -- Seuil minimum\n",
        ")\n",
        "\n",
        "SELECT\n",
        "    product_a,\n",
        "    product_b,\n",
        "    co_purchase_count,\n",
        "    co_purchase_count::float / total_a.count as confidence\n",
        "FROM product_pairs pp\n",
        "JOIN (\n",
        "    SELECT product_id, COUNT(*) as count\n",
        "    FROM order_items\n",
        "    GROUP BY product_id\n",
        ") total_a ON pp.product_a = total_a.product_id\n",
        "ORDER BY confidence DESC;\n",
        "```\n",
        "\n",
        "---"
      ]
    },
    {
      "cell_type": "markdown",
      "metadata": {
        "id": "dbYkj8ItabH-"
      },
      "source": [
        "## Partie 5 : Intégration avec les APIs météo"
      ]
    },
    {
      "cell_type": "markdown",
      "metadata": {
        "id": "x4CU6SNEfNXb"
      },
      "source": [
        "### 🌤️ Croisement données météo/ventes\n",
        "```python\n",
        "def weather_sales_correlation():\n",
        "    \"\"\"\n",
        "    Correlez vos données météo du Notebook 1 avec les ventes\n",
        "    \n",
        "    Hypothèses à tester :\n",
        "    1. Les ventes de certaines catégories augmentent-elles avec la pluie ?\n",
        "    2. Y a-t-il un impact de la température sur les achats ?\n",
        "    3. Les livraisons sont-elles impactées par la météo ?\n",
        "    \"\"\"\n",
        "    \n",
        "    # Récupérez les données météo historiques pour les villes brésiliennes\n",
        "    weather_query = \"\"\"\n",
        "    SELECT DISTINCT customer_city, customer_state\n",
        "    FROM customers\n",
        "    WHERE customer_state IN ('SP', 'RJ', 'MG', 'RS', 'SC')\n",
        "    ORDER BY customer_city;\n",
        "    \"\"\"\n",
        "    \n",
        "    cities = pd.read_sql(weather_query, engine)\n",
        "    \n",
        "    # Intégrez avec l'API météo\n",
        "    # Analysez les corrélations\n",
        "    \n",
        "    pass\n",
        "```"
      ]
    },
    {
      "cell_type": "markdown",
      "metadata": {
        "id": "XHG9k_5PfZXd"
      },
      "source": [
        "### 📊 Dashboard géo-temporel\n",
        "```python\n",
        "def create_geotemporal_dashboard():\n",
        "    \"\"\"\n",
        "    Créez un dashboard interactif combinant :\n",
        "    - Carte des ventes par région\n",
        "    - Évolution temporelle avec météo\n",
        "    - Segments clients géolocalisés\n",
        "    - Prédictions par zone géographique\n",
        "    \"\"\"\n",
        "    pass\n",
        "```"
      ]
    },
    {
      "cell_type": "markdown",
      "metadata": {
        "id": "EsIuD-IVfnxW"
      },
      "source": [
        "---\n",
        "## 🏆 Livrables finaux\n",
        "\n",
        "### 📈 Rapport d'analyse complet\n",
        "1. **Segmentation RFM (Recency, Frenquency, Monetary) ** : 5-7 segments avec caractéristiques\n",
        "2. **Analyse géographique**  : Performances par région + recommandations\n",
        "3. **Prédictions churn** : Liste des clients à risque + actions\n",
        "4. **Recommandations produits** : Top 10 des associations\n",
        "5. **Impact météo** : Corrélations significatives identifiées\n",
        "\n",
        "### 🚀 Pipeline automatisé\n",
        "```python\n",
        "def automated_analysis_pipeline():\n",
        "    \"\"\"\n",
        "    Pipeline qui :\n",
        "    1. Se connecte à la DB\n",
        "    2. Exécute toutes les analyses\n",
        "    3. Met à jour les segments clients\n",
        "    4. Génère le rapport automatiquement\n",
        "    5. Envoie des alertes si nécessaire\n",
        "    \"\"\"\n",
        "    pass\n",
        "```\n",
        "\n",
        "---"
      ]
    },
    {
      "cell_type": "markdown",
      "metadata": {
        "id": "wynvmdtNftwf"
      },
      "source": [
        "## 🎓 Auto-évaluation\n",
        "\n",
        "- [ ] **Connexion DB** : PostgreSQL fonctionnelle\n",
        "- [ ] **Requêtes complexes** : JOINs, CTEs, fonctions analytiques\n",
        "- [ ] **Gestion des erreurs** : Connexions robustes\n",
        "- [ ] **Performance** : Requêtes optimisées avec index\n",
        "- [ ] **Intégration** : SQL + Python + APIs\n",
        "- [ ] **Insights actionables** : Recommandations business claires\n",
        "\n",
        "### 🔗 Préparation au Notebook 3\n",
        "Le prochain notebook portera sur NoSQL (MongoDB) avec des données de réseaux sociaux et d'IoT, en temps réel.\n",
        "\n",
        "### 💡 Bases de données alternatives\n",
        "- **PlanetScale** : MySQL serverless gratuit\n",
        "- **MongoDB Atlas** : 512MB gratuit\n",
        "- **FaunaDB** : Base multi-modèle gratuite\n",
        "- **Hasura Cloud** : GraphQL + PostgreSQL"
      ]
    }
  ],
  "metadata": {
    "colab": {
      "provenance": []
    },
    "kernelspec": {
      "display_name": ".venv",
      "language": "python",
      "name": "python3"
    },
    "language_info": {
      "codemirror_mode": {
        "name": "ipython",
        "version": 3
      },
      "file_extension": ".py",
      "mimetype": "text/x-python",
      "name": "python",
      "nbconvert_exporter": "python",
      "pygments_lexer": "ipython3",
      "version": "3.12.3"
    }
  },
  "nbformat": 4,
  "nbformat_minor": 0
}
