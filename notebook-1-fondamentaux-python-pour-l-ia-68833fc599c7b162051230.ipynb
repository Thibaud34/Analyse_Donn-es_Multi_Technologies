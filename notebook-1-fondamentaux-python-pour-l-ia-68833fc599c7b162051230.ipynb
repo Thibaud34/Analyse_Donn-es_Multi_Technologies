{
  "cells": [
    {
      "cell_type": "markdown",
      "metadata": {
        "id": "VQzdTEd20OQQ"
      },
      "source": []
    },
    {
      "cell_type": "markdown",
      "metadata": {
        "id": "qD7z9hrS0QHi"
      },
      "source": [
        "# Notebook 1 - Fondamentaux Python pour l'IA\n",
        "# Analyse de données météorologiques en temps réel\n",
        "\n",
        "🎯 Objectifs pédagogiques\n",
        "\n",
        "Maîtriser les structures de données Python essentielles\n",
        "Consommer des APIs REST avec requests\n",
        "Manipuler des données JSON et CSV\n",
        "Créer des visualisations basiques\n",
        "Appliquer des statistiques descriptives\n",
        "\n",
        "🌤️ Contexte du projet\n",
        "\n",
        "Vous travaillez pour une startup AgTech qui développe des solutions d'agriculture intelligente. Votre mission : analyser les données météorologiques de plusieurs villes européennes pour optimiser les recommandations de plantation."
      ]
    },
    {
      "cell_type": "markdown",
      "metadata": {
        "id": "InXafSSW05HB"
      },
      "source": [
        "Partie 1 : Connexion aux APIs météo\n",
        "\n",
        "🔧 Installation des bibliothèques\n",
        "\n",
        "\n",
        " À exécuter dans votre terminal ou cellule\n",
        "# pip install requests pandas matplotlib seaborn numpy"
      ]
    },
    {
      "cell_type": "code",
      "execution_count": null,
      "metadata": {
        "id": "VRX6x9eF08hL"
      },
      "outputs": [],
      "source": [
        "#📥 Import et configuration\n",
        "import requests\n",
        "import pandas as pd\n",
        "import datetime as dt\n",
        "import numpy as np\n",
        "import matplotlib.pyplot as plt\n",
        "import seaborn as sns\n",
        "from datetime import datetime, timedelta\n",
        "import json\n",
        "import os\n",
        "from dotenv import load_dotenv\n",
        "import plotly.express as px\n",
        "\n",
        "# Charger le fichier .env\n",
        "load_dotenv()\n",
        "\n",
        "OWM_API_KEY = os.getenv('OWM_API_KEY')"
      ]
    },
    {
      "cell_type": "markdown",
      "metadata": {
        "id": "cclqgdw01aGL"
      },
      "source": [
        "🌍 API OpenWeatherMap (gratuite)\n",
        "\n",
        "Inscription : Créez un compte sur openweathermap.org\n",
        "\n",
        "\n",
        "Clé API : Récupérez votre clé gratuite (40 000 appels/mois)\n",
        "\n"
      ]
    },
    {
      "cell_type": "code",
      "execution_count": 2,
      "metadata": {
        "id": "90O22MX50sjB"
      },
      "outputs": [
        {
          "name": "stdout",
          "output_type": "stream",
          "text": [
            "Status code: 200\n",
            "Ville étudiée : Madrid\n",
            "Température: 26.17°C\n"
          ]
        }
      ],
      "source": [
        "BASE_URL = \"https://api.openweathermap.org/data/2.5\"\n",
        "\n",
        "def get_weather_data(city, api_key):\n",
        "    \"\"\"\n",
        "    Récupère les données météo actuelles pour une ville\n",
        "\n",
        "    Étapes à compléter :\n",
        "    1. Construire l'URL avec les paramètres\n",
        "    2. Faire l'appel API avec requests.get()\n",
        "    3. Vérifier le status code\n",
        "    4. Retourner les données JSON\n",
        "    \"\"\"\n",
        "    # URL : current weather data\n",
        "    # Weather permet d'annoncer qu'on veut les données météos actuelles\n",
        "    url = f\"{BASE_URL}/weather\"\n",
        "\n",
        "    # Paramètres à compléter qu'on va envoyer à l'API\n",
        "    params = {\n",
        "        'q': city,\n",
        "        'appid': api_key,\n",
        "        'units': 'metric',  # Celsius\n",
        "        'lang': 'fr'\n",
        "    }\n",
        "\n",
        "    # 2. Faire l'appel API avec requests.get()\n",
        "    # Requête HHTP = response contiendra la réponse de l'API\n",
        "    response = requests.get(url, params=params)\n",
        "    \n",
        "    # 3. Vérifier le status code\n",
        "    # 200 = OK / 404 = Non trouvé / 401 = Problème de l'API / 429 = Trop de requêtes envoyées\n",
        "    print(f\"Status code: {response.status_code}\")\n",
        "    \n",
        "    # Gérez les erreurs HTTP !\n",
        "    # Si tout va bien (code 200) alors on va demander la réponse en JSON\n",
        "    if response.status_code == 200:\n",
        "        # 4. Retourner les données JSON\n",
        "        return response.json()\n",
        "    # Si il y a des soucis alors on affiche un message d'erreur\n",
        "    elif response.status_code == 401:\n",
        "        raise Exception(\"Clé API invalide\")\n",
        "    elif response.status_code == 404:\n",
        "        raise Exception(f\"Ville '{city}' introuvable\")\n",
        "    elif response.status_code == 429:\n",
        "        raise Exception(\"Limite de requêtes dépassée\")\n",
        "    else:\n",
        "        raise Exception(f\"Erreur API: {response.status_code}\")\n",
        "\n",
        "# Test de la fonction\n",
        "if __name__ == \"__main__\": #Cette ligne permet de protéger du code de test pour qu’il ne s’exécute que si \n",
        "                            # le fichier est lancé directement.\n",
        "    api_key = os.getenv('OWM_API_KEY')\n",
        "    weather = get_weather_data(\"Madrid\", api_key)\n",
        "    print(f\"Ville étudiée : {weather['name']}\")\n",
        "    print(f\"Température: {weather['main']['temp']}°C\")"
      ]
    },
    {
      "cell_type": "code",
      "execution_count": 3,
      "metadata": {
        "id": "Dsb-QIjE0slp"
      },
      "outputs": [
        {
          "name": "stdout",
          "output_type": "stream",
          "text": [
            "Ville: Paris\n",
            "Status code: 200\n",
            "Température: 24.03°C\n",
            "Description: ciel dégagé\n",
            "\n",
            "Ville: Berlin\n",
            "Status code: 200\n",
            "Température: 22.03°C\n",
            "Description: nuageux\n",
            "\n",
            "Ville: Madrid\n",
            "Status code: 200\n",
            "Température: 26.17°C\n",
            "Description: ciel dégagé\n",
            "\n",
            "Ville: Amsterdam\n",
            "Status code: 200\n",
            "Température: 21.9°C\n",
            "Description: peu nuageux\n",
            "\n",
            "Ville: Vienna\n",
            "Status code: 200\n",
            "Température: 21.16°C\n",
            "Description: peu nuageux\n",
            "\n"
          ]
        }
      ],
      "source": [
        "# # Configuration API\n",
        "# API_KEY = \"V79ad430401410c1548779e39d652cdea\"  # Remplacez par votre vraie clé\n",
        "# BASE_URL = \"http://api.openweathermap.org/data/2.5\"\n",
        "\n",
        "# # Villes à analyser (agriculture européenne)\n",
        "# CITIES = [\"Paris\", \"Berlin\", \"Madrid\", \"Rome\", \"Amsterdam\", \"Vienna\"]\n",
        "\n",
        "# Configuration API\n",
        "api_key = os.getenv('OWM_API_KEY')\n",
        "BASE_URL = \"https://api.openweathermap.org/data/2.5\"\n",
        "\n",
        "# Villes à analyser (agriculture européenne)\n",
        "CITIES = [\"Paris\", \"Berlin\", \"Madrid\", \"Amsterdam\", \"Vienna\"]\n",
        "\n",
        "def get_weather_data(city, api_key):\n",
        "    \"\"\"\n",
        "    Récupère les données météo actuelles pour une ville\n",
        "    \"\"\"\n",
        "    url = f\"{BASE_URL}/weather\"\n",
        "    \n",
        "    params = {\n",
        "        'q': city,\n",
        "        'appid': api_key,\n",
        "        'units': 'metric',\n",
        "        'lang': 'fr'\n",
        "    }\n",
        "    \n",
        "    response = requests.get(url, params=params)\n",
        "    print(f\"Status code: {response.status_code}\")\n",
        "    \n",
        "    # Gérez les erreurs HTTP !\n",
        "    # Si tout va bien (code 200) alors on va demander la réponse en JSON\n",
        "    if response.status_code == 200:\n",
        "        # 4. Retourner les données JSON\n",
        "        return response.json()\n",
        "    # Si il y a des soucis alors on affiche un message d'erreur\n",
        "    elif response.status_code == 401:\n",
        "        raise Exception(\"Clé API invalide\")\n",
        "    elif response.status_code == 404:\n",
        "        raise Exception(f\"Ville '{city}' introuvable\")\n",
        "    elif response.status_code == 429:\n",
        "        raise Exception(\"Limite de requêtes dépassée\")\n",
        "    else:\n",
        "        raise Exception(f\"Erreur API: {response.status_code}\")\n",
        "\n",
        "# Analyser toutes les villes\n",
        "for city in CITIES:\n",
        "    print(f\"Ville: {city}\")\n",
        "    weather = get_weather_data(city, api_key)\n",
        "    print(f\"Température: {weather['main']['temp']}°C\")\n",
        "    print(f\"Description: {weather['weather'][0]['description']}\")\n",
        "    print()\n",
        "\n",
        "\n"
      ]
    },
    {
      "cell_type": "markdown",
      "metadata": {
        "id": "jUpfp5TW2mY_"
      },
      "source": []
    },
    {
      "cell_type": "markdown",
      "metadata": {
        "id": "XN6RPmCr2qDp"
      },
      "source": [
        "**Questions de débogage :**\n",
        "- Que faire si l'API retourne une erreur 401 ?\n",
        "Si il y a des soucis alors on affiche un message d'erreur\n",
        "    elif response.status_code == 401:\n",
        "        raise Exception(\"Clé API invalide\")\n",
        "\n",
        "\n",
        "- Comment gérer une ville introuvable ?\n",
        "    elif response.status_code == 404:\n",
        "        raise Exception(f\"Ville '{city}' introuvable\")\n",
        "---"
      ]
    },
    {
      "cell_type": "markdown",
      "metadata": {
        "id": "KL0MS3RJ263K"
      },
      "source": [
        "## Partie 2 : API complémentaire - Données historiques\n",
        "\n",
        "### 📊 API Visual Crossing Weather (gratuite)\n",
        "Alternative avec 1000 appels/jour gratuits : [visualcrossing.com](https://www.visualcrossing.com/weather-api)"
      ]
    },
    {
      "cell_type": "code",
      "execution_count": 4,
      "metadata": {
        "id": "6OK5bXQy0srW"
      },
      "outputs": [
        {
          "name": "stdout",
          "output_type": "stream",
          "text": [
            "Paris – status 200\n",
            "Madrid – status 200\n",
            "Berlin – status 200\n",
            "Amsterdam – status 200\n",
            "Vienna – status 200\n",
            "         date  ville  temperature  humidite  precipitation  vent\n",
            "0  2025-07-22  Paris         19.2      71.0          0.052  16.8\n",
            "1  2025-07-23  Paris         19.2      74.3          2.018  13.5\n",
            "2  2025-07-24  Paris         18.4      83.8         12.440  15.4\n",
            "3  2025-07-25  Paris         20.7      72.8          0.010  12.2\n",
            "4  2025-07-26  Paris         21.4      67.6          0.000  16.0\n"
          ]
        }
      ],
      "source": [
        "# Charger la clé API Visual Crossing Weather depuis le fichier .env\n",
        "api_key = os.getenv('VC_API_KEY')\n",
        "\n",
        "# Base URL Visual Crossing\n",
        "VC_BASE_URL = \"https://weather.visualcrossing.com/VisualCrossingWebServices/rest/services/timeline/\"\n",
        "\n",
        "# Liste de villes\n",
        "villes = [\"Paris\",\"Madrid\", \"Berlin\", \"Amsterdam\", \"Vienna\"]  # Tu peux remplacer ou compléter\n",
        "\n",
        "# Dates de début et fin sur les 30 derniers jours (ici que 7 jours car souvis de maximum requête)\n",
        "start_date = (dt.datetime.today() - dt.timedelta(days=7)).date()\n",
        "end_date = dt.datetime.today().date()\n",
        "\n",
        "\n",
        "# Fonction de récupération météo\n",
        "def get_historical_weather(city, start_date, end_date, api_key):\n",
        "    url = f\"{VC_BASE_URL}{city}/{start_date.isoformat()}/{end_date.isoformat()}\"\n",
        "    params = {\n",
        "        'key': api_key,\n",
        "        'include': 'days',\n",
        "        'elements': 'datetime,temp,humidity,precip,windspeed',\n",
        "        'unitGroup': 'metric',\n",
        "        'contentType': 'json'\n",
        "    }\n",
        "\n",
        "    response = requests.get(url, params=params, timeout=15)\n",
        "    print(f\"{city} – status {response.status_code}\")\n",
        "    response.raise_for_status()  # Lève une erreur si le code HTTP n’est pas 200\n",
        "\n",
        "    return response.json()\n",
        "\n",
        "\n",
        "# Boucle sur les villes + collecte des données\n",
        "all_data = []\n",
        "\n",
        "for ville in villes:\n",
        "    try:\n",
        "        data = get_historical_weather(ville, start_date, end_date, api_key)\n",
        "        for day in data['days']:\n",
        "            all_data.append({\n",
        "                'date': day['datetime'],\n",
        "                'ville': ville,\n",
        "                'temperature': day['temp'],\n",
        "                'humidite': day['humidity'],\n",
        "                'precipitation': day['precip'],\n",
        "                'vent': day['windspeed']\n",
        "            })\n",
        "    except Exception as e:\n",
        "        print(f\"!! Erreur pour {ville} : {e}\")\n",
        "\n",
        "\n",
        "# Création du DataFrame final\n",
        "df = pd.DataFrame(all_data)\n",
        "print(df.head())"
      ]
    },
    {
      "cell_type": "markdown",
      "metadata": {
        "id": "WiSgjF2V3JOv"
      },
      "source": [
        "### 🎯 Mission pratique\n",
        "Récupérez les données des 30 derniers jours pour toutes vos villes et créez un DataFrame consolidé.\n",
        "\n",
        "**Structure attendue :**\n",
        "```\n",
        "| date       | ville     | temperature | humidite | precipitation | vent |\n",
        "|------------|-----------|-------------|----------|---------------|------|\n",
        "| 2024-01-01 | Paris     | 12.5        | 75       | 2.3          | 15   |\n",
        "```\n",
        "\n",
        "---\n"
      ]
    },
    {
      "cell_type": "markdown",
      "metadata": {},
      "source": [
        "## Partie 3 : API supplémentaire - Qualité de l'air"
      ]
    },
    {
      "cell_type": "code",
      "execution_count": 5,
      "metadata": {
        "id": "V0DOb0363VJU"
      },
      "outputs": [],
      "source": [
        "### Obtenir les coordonnées\n",
        "GEOCODING_URL = \"http://api.openweathermap.org/geo/1.0/direct\"\n",
        "\n",
        "def get_city_coordinates(city, api_key):\n",
        "    \"\"\"\n",
        "    Récupère les coordonnées (latitude, longitude) d'une ville\n",
        "    via l'API de géocodage OpenWeatherMap.\n",
        "\n",
        "    Retourne un tuple (lat, lon)\n",
        "    \"\"\"\n",
        "    params = {\n",
        "        'q': city,\n",
        "        'limit': 1,\n",
        "        'appid': api_key\n",
        "    }\n",
        "\n",
        "    response = requests.get(GEOCODING_URL, params=params, timeout=10)\n",
        "    response.raise_for_status()\n",
        "    data = response.json()\n",
        "\n",
        "    if not data:\n",
        "        raise ValueError(f\"Coordonnées introuvables pour la ville : {city}\")\n",
        "\n",
        "    lat = data[0]['lat']\n",
        "    lon = data[0]['lon']\n",
        "    return lat, lon"
      ]
    },
    {
      "cell_type": "code",
      "execution_count": 6,
      "metadata": {
        "id": "iR8RHaqM0suN"
      },
      "outputs": [],
      "source": [
        "## Partie 3 : API supplémentaire - Qualité de l'air\n",
        "\n",
        "BASE_URL = \"http://api.openweathermap.org/data/2.5/air_pollution\"\n",
        "\n",
        "### API OpenWeatherMap Air Pollution\n",
        "def get_air_quality(lat, lon, api_key):\n",
        "    \"\"\"\n",
        "    Récupère les données de qualité de l'air pour des coordonnées données.\n",
        "\n",
        "    Renvoie un dictionnaire contenant :\n",
        "    - aqi\n",
        "    - pm2_5\n",
        "    - pm10\n",
        "    - o3\n",
        "    - no2\n",
        "    - so2\n",
        "    - co\n",
        "    \"\"\"\n",
        "    params = {\n",
        "        'lat': lat,\n",
        "        'lon': lon,\n",
        "        'appid': api_key\n",
        "    }\n",
        "\n",
        "    response = requests.get(BASE_URL, params=params, timeout=10)\n",
        "    response.raise_for_status()\n",
        "\n",
        "    data = response.json()\n",
        "    aqi_data = data['list'][0]\n",
        "\n",
        "    return {\n",
        "        'aqi': aqi_data['main']['aqi'],\n",
        "        'pm2_5': aqi_data['components']['pm2_5'],\n",
        "        'pm10': aqi_data['components']['pm10'],\n",
        "        'o3': aqi_data['components']['o3'],\n",
        "        'no2': aqi_data['components']['no2'],\n",
        "        'so2': aqi_data['components']['so2'],\n",
        "        'co': aqi_data['components']['co']\n",
        "    }\n",
        "\n"
      ]
    },
    {
      "cell_type": "code",
      "execution_count": 7,
      "metadata": {},
      "outputs": [
        {
          "name": "stdout",
          "output_type": "stream",
          "text": [
            "       ville  aqi  pm2_5  pm10     o3   no2   so2      co\n",
            "0      Paris    2   1.21  1.67  74.74  0.61  0.17  116.86\n",
            "1     Madrid    2   1.47  2.86  97.30  0.46  0.10  106.45\n",
            "2     Berlin    2   0.72  0.95  80.01  0.75  0.46  117.59\n",
            "3  Amsterdam    2   2.70  3.38  63.91  9.73  2.54  141.95\n",
            "4     Vienna    1   0.80  0.92  55.40  1.48  0.47  124.24\n"
          ]
        }
      ],
      "source": [
        "# séparer l'appel des API de l’exécution principale\n",
        "if __name__ == \"__main__\":\n",
        "    villes = [\"Paris\",\"Madrid\", \"Berlin\", \"Amsterdam\", \"Vienna\"]\n",
        "    all_air_data = []\n",
        "\n",
        "    for ville in villes :\n",
        "        lat, lon = get_city_coordinates(ville, OWM_API_KEY)\n",
        "        air_quality = get_air_quality(lat, lon, OWM_API_KEY)\n",
        "        air_quality['ville'] = ville\n",
        "        all_air_data.append(air_quality)\n",
        "\n",
        "    df_air = pd.DataFrame(all_air_data)\n",
        "\n",
        "    # Réorganiser les colonnes pour avoir 'ville' en premier\n",
        "    colonnes = ['ville', 'aqi', 'pm2_5', 'pm10', 'o3', 'no2', 'so2', 'co']\n",
        "    df_air = df_air[colonnes]\n",
        "\n",
        "    \n",
        "    print(df_air)\n"
      ]
    },
    {
      "cell_type": "markdown",
      "metadata": {
        "id": "v02lzUOv3kp6"
      },
      "source": [
        "\n",
        "## Partie 4 : Analyse et visualisation\n",
        "\n",
        "### 📈 Analyses à réaliser\n",
        "\n",
        "1. **Comparaison inter-villes**\n",
        "   - Températures moyennes par ville\n",
        "   - Variabilité climatique (écart-type)\n",
        "   - Corrélations température/humidité\n",
        "\n",
        "2. **Tendances temporelles**\n",
        "   - Évolution sur 30 jours\n",
        "   - Identification des patterns\n",
        "\n",
        "3. **Qualité de l'air vs météo**\n",
        "   - Impact de la pluie sur la pollution\n",
        "   - Corrélations vent/qualité de l'air"
      ]
    },
    {
      "cell_type": "code",
      "execution_count": 8,
      "metadata": {
        "colab": {
          "base_uri": "https://localhost:8080/",
          "height": 51
        },
        "id": "IQb6JSIp3VSD",
        "outputId": "542a1e6a-381e-40c4-a65a-c21522e3b42d"
      },
      "outputs": [
        {
          "data": {
            "text/plain": [
              "<Figure size 1500x800 with 0 Axes>"
            ]
          },
          "execution_count": 8,
          "metadata": {},
          "output_type": "execute_result"
        },
        {
          "data": {
            "text/plain": [
              "<Figure size 1500x800 with 0 Axes>"
            ]
          },
          "metadata": {},
          "output_type": "display_data"
        }
      ],
      "source": [
        "### 💡 Visualisations guidées\n",
        "\n",
        "# 1. Heatmap des températures par ville et jour\n",
        "plt.figure(figsize=(15, 8))\n",
        "# Créez un pivot table : villes en colonnes, dates en lignes\n",
        "# Utilisez seaborn.heatmap()\n",
        "\n",
        "\n",
        "# 2. Boxplot comparatif des précipitations pour les villes\n",
        "# Utilisez seaborn.boxplot()\n",
        "\n",
        "\n",
        "# 3. Scatter plot qualité air vs température pour les villes\n",
        "# Ajoutez une regression line avec seaborn.regplot()\n",
        "\n",
        "\n",
        "# 4. Vision de l'évolution temporelle de la température pour plusieurs villes\n",
        "## Un graphe avec plotly et un avec matplotlyb\n",
        "\n"
      ]
    },
    {
      "cell_type": "code",
      "execution_count": 9,
      "metadata": {},
      "outputs": [
        {
          "data": {
            "image/png": "[encoded data removed]",
            "text/plain": [
              "<Figure size 1500x800 with 2 Axes>"
            ]
          },
          "metadata": {},
          "output_type": "display_data"
        }
      ],
      "source": [
        "# # 1. Heatmap des températures par ville et jour\n",
        "# ## plt.figure(figsize=(15, 8))\n",
        "\n",
        "plt.figure(figsize=(15, 8))\n",
        "\n",
        "# Pivot pour avoir (villes × dates) avec la température\n",
        "heatmap_df = (\n",
        "    df.pivot(index='ville', columns='date', values='temperature')\n",
        "      .sort_index(axis=1)               # dates dans l’ordre\n",
        ")\n",
        "\n",
        "sns.heatmap(\n",
        "    heatmap_df,\n",
        "    annot=True,\n",
        "    fmt=\".1f\",\n",
        "    cmap='coolwarm',\n",
        "    cbar_kws={'label': 'Température (°C)'},\n",
        "    linewidths=.5\n",
        ")\n",
        "\n",
        "plt.title('Températures quotidiennes des 7 derniers jours')\n",
        "plt.xlabel('Date')\n",
        "plt.ylabel('Ville')\n",
        "plt.xticks(rotation=45, ha='right')\n",
        "plt.tight_layout()\n",
        "plt.show()"
      ]
    },
    {
      "cell_type": "code",
      "execution_count": 10,
      "metadata": {},
      "outputs": [
        {
          "name": "stderr",
          "output_type": "stream",
          "text": [
            "/tmp/ipykernel_42640/642447106.py:5: FutureWarning: \n",
            "\n",
            "Passing `palette` without assigning `hue` is deprecated and will be removed in v0.14.0. Assign the `x` variable to `hue` and set `legend=False` for the same effect.\n",
            "\n",
            "  sns.boxplot(\n"
          ]
        },
        {
          "data": {
            "image/png": "[encoded data removed]",
            "text/plain": [
              "<Figure size 1000x600 with 1 Axes>"
            ]
          },
          "metadata": {},
          "output_type": "display_data"
        }
      ],
      "source": [
        "# 2. Boxplot comparatif des précipitations pour les villes\n",
        "# Utilisez seaborn.boxplot()\n",
        "plt.figure(figsize=(10, 6))\n",
        "\n",
        "sns.boxplot(\n",
        "    data=df,\n",
        "    x='ville',\n",
        "    y='precipitation',\n",
        "    palette='Set2'\n",
        ")\n",
        "\n",
        "plt.title('Distribution des précipitations par ville', fontsize=14)\n",
        "plt.xlabel('Ville', fontsize=12)\n",
        "plt.ylabel('Précipitations (mm)', fontsize=12)\n",
        "plt.tight_layout()\n",
        "plt.show()\n",
        "\n",
        "\n",
        "\n"
      ]
    },
    {
      "cell_type": "code",
      "execution_count": 11,
      "metadata": {},
      "outputs": [
        {
          "name": "stdout",
          "output_type": "stream",
          "text": [
            "         date  ville  temperature  humidite  precipitation  vent  aqi  pm2_5  \\\n",
            "0  2025-07-22  Paris         19.2      71.0          0.052  16.8    2   1.21   \n",
            "1  2025-07-23  Paris         19.2      74.3          2.018  13.5    2   1.21   \n",
            "2  2025-07-24  Paris         18.4      83.8         12.440  15.4    2   1.21   \n",
            "3  2025-07-25  Paris         20.7      72.8          0.010  12.2    2   1.21   \n",
            "4  2025-07-26  Paris         21.4      67.6          0.000  16.0    2   1.21   \n",
            "\n",
            "   pm10     o3   no2   so2      co  \n",
            "0  1.67  74.74  0.61  0.17  116.86  \n",
            "1  1.67  74.74  0.61  0.17  116.86  \n",
            "2  1.67  74.74  0.61  0.17  116.86  \n",
            "3  1.67  74.74  0.61  0.17  116.86  \n",
            "4  1.67  74.74  0.61  0.17  116.86  \n",
            "Index(['date', 'ville', 'temperature', 'humidite', 'precipitation', 'vent',\n",
            "       'aqi', 'pm2_5', 'pm10', 'o3', 'no2', 'so2', 'co'],\n",
            "      dtype='object')\n"
          ]
        },
        {
          "data": {
            "image/png": "[encoded data removed]",
            "text/plain": [
              "<Figure size 1000x600 with 1 Axes>"
            ]
          },
          "metadata": {},
          "output_type": "display_data"
        }
      ],
      "source": [
        "# 3. Scatter plot qualité air vs température pour les villes\n",
        "# Ajoutez une regression line avec seaborn.regplot()\n",
        "\n",
        "# 1. Fusion « left » : on ajoute les colonnes d’air à chaque ligne météo\n",
        "df_merged = pd.merge(df, df_air, on='ville', how='left')\n",
        "\n",
        "# 2. Vérification rapide\n",
        "print(df_merged.head())\n",
        "print(df_merged.columns)\n",
        "\n",
        "# # 3. Scatter plot qualité air vs température avec ligne de régression\n",
        "# plt.figure(figsize=(10, 6))\n",
        "\n",
        "# sns.lmplot(   # Faire un regplot\n",
        "#     data=df_merged,\n",
        "#     x='temperature',\n",
        "#     y='aqi',\n",
        "#     hue='ville',\n",
        "#     height=6,\n",
        "#     aspect=1.5,\n",
        "#     scatter_kws={'alpha': 0.7},\n",
        "#     line_kws={'lw': 2}\n",
        "# )\n",
        "\n",
        "# plt.title('Qualité de l’air (AQI) vs Température')\n",
        "# plt.xlabel('Température (°C)')\n",
        "# plt.ylabel('AQI')\n",
        "# plt.tight_layout()\n",
        "# plt.show()\n",
        "\n",
        "# 3. Scatter plot avec regression line via regplot\n",
        "# 3. Scatter plot avec regression line via regplot\n",
        "plt.figure(figsize=(10, 6))\n",
        "\n",
        "# 1) Droite de régression globale (sans points)\n",
        "sns.regplot(\n",
        "    data=df_merged,\n",
        "    x='temperature',\n",
        "    y='aqi',\n",
        "    scatter=False,                      # pas de points\n",
        "    line_kws={'color': 'red', 'lw': 2}\n",
        ")\n",
        "\n",
        "# 2) Points colorés par ville\n",
        "sns.scatterplot(\n",
        "    data=df_merged,\n",
        "    x='temperature',\n",
        "    y='aqi',\n",
        "    hue='ville',\n",
        "    alpha=0.7\n",
        ")\n",
        "\n",
        "plt.title('AQI vs Température – régression globale, points par ville')\n",
        "plt.xlabel('Température (°C)')\n",
        "plt.ylabel('AQI')\n",
        "plt.legend(title='Ville')\n",
        "plt.tight_layout()\n",
        "plt.show()"
      ]
    },
    {
      "cell_type": "code",
      "execution_count": null,
      "metadata": {},
      "outputs": [
        {
          "data": {
            "application/vnd.plotly.v1+json": {
              "config": {
                "plotlyServerURL": "https://plot.ly"
              },
              "data": [
                {
                  "hovertemplate": "ville=Paris<br>date=%{x}<br>temperature=%{y}<extra></extra>",
                  "legendgroup": "Paris",
                  "line": {
                    "color": "#636efa",
                    "dash": "solid"
                  },
                  "marker": {
                    "symbol": "circle"
                  },
                  "mode": "lines+markers",
                  "name": "Paris",
                  "orientation": "v",
                  "showlegend": true,
                  "type": "scatter",
                  "x": [
                    "2025-07-22",
                    "2025-07-23",
                    "2025-07-24",
                    "2025-07-25",
                    "2025-07-26",
                    "2025-07-27",
                    "2025-07-28",
                    "2025-07-29"
                  ],
                  "xaxis": "x",
                  "y": {
                    "bdata": "MzMzMzMzM0AzMzMzMzMzQGZmZmZmZjJAMzMzMzOzNEBmZmZmZmY1QM3MzMzMzDJAZmZmZmbmMkAzMzMzM7MxQA==",
                    "dtype": "f8"
                  },
                  "yaxis": "y"
                },
                {
                  "hovertemplate": "ville=Madrid<br>date=%{x}<br>temperature=%{y}<extra></extra>",
                  "legendgroup": "Madrid",
                  "line": {
                    "color": "#EF553B",
                    "dash": "solid"
                  },
                  "marker": {
                    "symbol": "circle"
                  },
                  "mode": "lines+markers",
                  "name": "Madrid",
                  "orientation": "v",
                  "showlegend": true,
                  "type": "scatter",
                  "x": [
                    "2025-07-22",
                    "2025-07-23",
                    "2025-07-24",
                    "2025-07-25",
                    "2025-07-26",
                    "2025-07-27",
                    "2025-07-28",
                    "2025-07-29"
                  ],
                  "xaxis": "x",
                  "y": {
                    "bdata": "MzMzMzOzOUAAAAAAAIA5QJqZmZmZGTdAzczMzMxMNkAzMzMzM7M4QM3MzMzMTDtAzczMzMxMOkAzMzMzM7M3QA==",
                    "dtype": "f8"
                  },
                  "yaxis": "y"
                },
                {
                  "hovertemplate": "ville=Berlin<br>date=%{x}<br>temperature=%{y}<extra></extra>",
                  "legendgroup": "Berlin",
                  "line": {
                    "color": "#00cc96",
                    "dash": "solid"
                  },
                  "marker": {
                    "symbol": "circle"
                  },
                  "mode": "lines+markers",
                  "name": "Berlin",
                  "orientation": "v",
                  "showlegend": true,
                  "type": "scatter",
                  "x": [
                    "2025-07-22",
                    "2025-07-23",
                    "2025-07-24",
                    "2025-07-25",
                    "2025-07-26",
                    "2025-07-27",
                    "2025-07-28",
                    "2025-07-29"
                  ],
                  "xaxis": "x",
                  "y": {
                    "bdata": "AAAAAACAMUBmZmZmZmYyQAAAAAAAgDNAAAAAAAAANEBmZmZmZmYzQGZmZmZmZjRAmpmZmZkZNEBmZmZmZuYyQA==",
                    "dtype": "f8"
                  },
                  "yaxis": "y"
                },
                {
                  "hovertemplate": "ville=Amsterdam<br>date=%{x}<br>temperature=%{y}<extra></extra>",
                  "legendgroup": "Amsterdam",
                  "line": {
                    "color": "#ab63fa",
                    "dash": "solid"
                  },
                  "marker": {
                    "symbol": "circle"
                  },
                  "mode": "lines+markers",
                  "name": "Amsterdam",
                  "orientation": "v",
                  "showlegend": true,
                  "type": "scatter",
                  "x": [
                    "2025-07-22",
                    "2025-07-23",
                    "2025-07-24",
                    "2025-07-25",
                    "2025-07-26",
                    "2025-07-27",
                    "2025-07-28",
                    "2025-07-29"
                  ],
                  "xaxis": "x",
                  "y": {
                    "bdata": "MzMzMzMzM0AAAAAAAIAzQJqZmZmZmTNAMzMzMzOzM0AzMzMzM7MzQAAAAAAAgDJAZmZmZmbmMUCamZmZmZkyQA==",
                    "dtype": "f8"
                  },
                  "yaxis": "y"
                },
                {
                  "hovertemplate": "ville=Vienna<br>date=%{x}<br>temperature=%{y}<extra></extra>",
                  "legendgroup": "Vienna",
                  "line": {
                    "color": "#FFA15A",
                    "dash": "solid"
                  },
                  "marker": {
                    "symbol": "circle"
                  },
                  "mode": "lines+markers",
                  "name": "Vienna",
                  "orientation": "v",
                  "showlegend": true,
                  "type": "scatter",
                  "x": [
                    "2025-07-22",
                    "2025-07-23",
                    "2025-07-24",
                    "2025-07-25",
                    "2025-07-26",
                    "2025-07-27",
                    "2025-07-28",
                    "2025-07-29"
                  ],
                  "xaxis": "x",
                  "y": {
                    "bdata": "AAAAAAAAN0AAAAAAAIA3QGZmZmZmZjdAMzMzMzMzNkCamZmZmRk0QM3MzMzMTDRAzczMzMxMNEAAAAAAAIAyQA==",
                    "dtype": "f8"
                  },
                  "yaxis": "y"
                }
              ],
              "layout": {
                "legend": {
                  "title": {
                    "text": "ville"
                  },
                  "tracegroupgap": 0
                },
                "template": {
                  "data": {
                    "bar": [
                      {
                        "error_x": {
                          "color": "#2a3f5f"
                        },
                        "error_y": {
                          "color": "#2a3f5f"
                        },
                        "marker": {
                          "line": {
                            "color": "#E5ECF6",
                            "width": 0.5
                          },
                          "pattern": {
                            "fillmode": "overlay",
                            "size": 10,
                            "solidity": 0.2
                          }
                        },
                        "type": "bar"
                      }
                    ],
                    "barpolar": [
                      {
                        "marker": {
                          "line": {
                            "color": "#E5ECF6",
                            "width": 0.5
                          },
                          "pattern": {
                            "fillmode": "overlay",
                            "size": 10,
                            "solidity": 0.2
                          }
                        },
                        "type": "barpolar"
                      }
                    ],
                    "carpet": [
                      {
                        "aaxis": {
                          "endlinecolor": "#2a3f5f",
                          "gridcolor": "white",
                          "linecolor": "white",
                          "minorgridcolor": "white",
                          "startlinecolor": "#2a3f5f"
                        },
                        "baxis": {
                          "endlinecolor": "#2a3f5f",
                          "gridcolor": "white",
                          "linecolor": "white",
                          "minorgridcolor": "white",
                          "startlinecolor": "#2a3f5f"
                        },
                        "type": "carpet"
                      }
                    ],
                    "choropleth": [
                      {
                        "colorbar": {
                          "outlinewidth": 0,
                          "ticks": ""
                        },
                        "type": "choropleth"
                      }
                    ],
                    "contour": [
                      {
                        "colorbar": {
                          "outlinewidth": 0,
                          "ticks": ""
                        },
                        "colorscale": [
                          [
                            0,
                            "#0d0887"
                          ],
                          [
                            0.1111111111111111,
                            "#46039f"
                          ],
                          [
                            0.2222222222222222,
                            "#7201a8"
                          ],
                          [
                            0.3333333333333333,
                            "#9c179e"
                          ],
                          [
                            0.4444444444444444,
                            "#bd3786"
                          ],
                          [
                            0.5555555555555556,
                            "#d8576b"
                          ],
                          [
                            0.6666666666666666,
                            "#ed7953"
                          ],
                          [
                            0.7777777777777778,
                            "#fb9f3a"
                          ],
                          [
                            0.8888888888888888,
                            "#fdca26"
                          ],
                          [
                            1,
                            "#f0f921"
                          ]
                        ],
                        "type": "contour"
                      }
                    ],
                    "contourcarpet": [
                      {
                        "colorbar": {
                          "outlinewidth": 0,
                          "ticks": ""
                        },
                        "type": "contourcarpet"
                      }
                    ],
                    "heatmap": [
                      {
                        "colorbar": {
                          "outlinewidth": 0,
                          "ticks": ""
                        },
                        "colorscale": [
                          [
                            0,
                            "#0d0887"
                          ],
                          [
                            0.1111111111111111,
                            "#46039f"
                          ],
                          [
                            0.2222222222222222,
                            "#7201a8"
                          ],
                          [
                            0.3333333333333333,
                            "#9c179e"
                          ],
                          [
                            0.4444444444444444,
                            "#bd3786"
                          ],
                          [
                            0.5555555555555556,
                            "#d8576b"
                          ],
                          [
                            0.6666666666666666,
                            "#ed7953"
                          ],
                          [
                            0.7777777777777778,
                            "#fb9f3a"
                          ],
                          [
                            0.8888888888888888,
                            "#fdca26"
                          ],
                          [
                            1,
                            "#f0f921"
                          ]
                        ],
                        "type": "heatmap"
                      }
                    ],
                    "histogram": [
                      {
                        "marker": {
                          "pattern": {
                            "fillmode": "overlay",
                            "size": 10,
                            "solidity": 0.2
                          }
                        },
                        "type": "histogram"
                      }
                    ],
                    "histogram2d": [
                      {
                        "colorbar": {
                          "outlinewidth": 0,
                          "ticks": ""
                        },
                        "colorscale": [
                          [
                            0,
                            "#0d0887"
                          ],
                          [
                            0.1111111111111111,
                            "#46039f"
                          ],
                          [
                            0.2222222222222222,
                            "#7201a8"
                          ],
                          [
                            0.3333333333333333,
                            "#9c179e"
                          ],
                          [
                            0.4444444444444444,
                            "#bd3786"
                          ],
                          [
                            0.5555555555555556,
                            "#d8576b"
                          ],
                          [
                            0.6666666666666666,
                            "#ed7953"
                          ],
                          [
                            0.7777777777777778,
                            "#fb9f3a"
                          ],
                          [
                            0.8888888888888888,
                            "#fdca26"
                          ],
                          [
                            1,
                            "#f0f921"
                          ]
                        ],
                        "type": "histogram2d"
                      }
                    ],
                    "histogram2dcontour": [
                      {
                        "colorbar": {
                          "outlinewidth": 0,
                          "ticks": ""
                        },
                        "colorscale": [
                          [
                            0,
                            "#0d0887"
                          ],
                          [
                            0.1111111111111111,
                            "#46039f"
                          ],
                          [
                            0.2222222222222222,
                            "#7201a8"
                          ],
                          [
                            0.3333333333333333,
                            "#9c179e"
                          ],
                          [
                            0.4444444444444444,
                            "#bd3786"
                          ],
                          [
                            0.5555555555555556,
                            "#d8576b"
                          ],
                          [
                            0.6666666666666666,
                            "#ed7953"
                          ],
                          [
                            0.7777777777777778,
                            "#fb9f3a"
                          ],
                          [
                            0.8888888888888888,
                            "#fdca26"
                          ],
                          [
                            1,
                            "#f0f921"
                          ]
                        ],
                        "type": "histogram2dcontour"
                      }
                    ],
                    "mesh3d": [
                      {
                        "colorbar": {
                          "outlinewidth": 0,
                          "ticks": ""
                        },
                        "type": "mesh3d"
                      }
                    ],
                    "parcoords": [
                      {
                        "line": {
                          "colorbar": {
                            "outlinewidth": 0,
                            "ticks": ""
                          }
                        },
                        "type": "parcoords"
                      }
                    ],
                    "pie": [
                      {
                        "automargin": true,
                        "type": "pie"
                      }
                    ],
                    "scatter": [
                      {
                        "fillpattern": {
                          "fillmode": "overlay",
                          "size": 10,
                          "solidity": 0.2
                        },
                        "type": "scatter"
                      }
                    ],
                    "scatter3d": [
                      {
                        "line": {
                          "colorbar": {
                            "outlinewidth": 0,
                            "ticks": ""
                          }
                        },
                        "marker": {
                          "colorbar": {
                            "outlinewidth": 0,
                            "ticks": ""
                          }
                        },
                        "type": "scatter3d"
                      }
                    ],
                    "scattercarpet": [
                      {
                        "marker": {
                          "colorbar": {
                            "outlinewidth": 0,
                            "ticks": ""
                          }
                        },
                        "type": "scattercarpet"
                      }
                    ],
                    "scattergeo": [
                      {
                        "marker": {
                          "colorbar": {
                            "outlinewidth": 0,
                            "ticks": ""
                          }
                        },
                        "type": "scattergeo"
                      }
                    ],
                    "scattergl": [
                      {
                        "marker": {
                          "colorbar": {
                            "outlinewidth": 0,
                            "ticks": ""
                          }
                        },
                        "type": "scattergl"
                      }
                    ],
                    "scattermap": [
                      {
                        "marker": {
                          "colorbar": {
                            "outlinewidth": 0,
                            "ticks": ""
                          }
                        },
                        "type": "scattermap"
                      }
                    ],
                    "scattermapbox": [
                      {
                        "marker": {
                          "colorbar": {
                            "outlinewidth": 0,
                            "ticks": ""
                          }
                        },
                        "type": "scattermapbox"
                      }
                    ],
                    "scatterpolar": [
                      {
                        "marker": {
                          "colorbar": {
                            "outlinewidth": 0,
                            "ticks": ""
                          }
                        },
                        "type": "scatterpolar"
                      }
                    ],
                    "scatterpolargl": [
                      {
                        "marker": {
                          "colorbar": {
                            "outlinewidth": 0,
                            "ticks": ""
                          }
                        },
                        "type": "scatterpolargl"
                      }
                    ],
                    "scatterternary": [
                      {
                        "marker": {
                          "colorbar": {
                            "outlinewidth": 0,
                            "ticks": ""
                          }
                        },
                        "type": "scatterternary"
                      }
                    ],
                    "surface": [
                      {
                        "colorbar": {
                          "outlinewidth": 0,
                          "ticks": ""
                        },
                        "colorscale": [
                          [
                            0,
                            "#0d0887"
                          ],
                          [
                            0.1111111111111111,
                            "#46039f"
                          ],
                          [
                            0.2222222222222222,
                            "#7201a8"
                          ],
                          [
                            0.3333333333333333,
                            "#9c179e"
                          ],
                          [
                            0.4444444444444444,
                            "#bd3786"
                          ],
                          [
                            0.5555555555555556,
                            "#d8576b"
                          ],
                          [
                            0.6666666666666666,
                            "#ed7953"
                          ],
                          [
                            0.7777777777777778,
                            "#fb9f3a"
                          ],
                          [
                            0.8888888888888888,
                            "#fdca26"
                          ],
                          [
                            1,
                            "#f0f921"
                          ]
                        ],
                        "type": "surface"
                      }
                    ],
                    "table": [
                      {
                        "cells": {
                          "fill": {
                            "color": "#EBF0F8"
                          },
                          "line": {
                            "color": "white"
                          }
                        },
                        "header": {
                          "fill": {
                            "color": "#C8D4E3"
                          },
                          "line": {
                            "color": "white"
                          }
                        },
                        "type": "table"
                      }
                    ]
                  },
                  "layout": {
                    "annotationdefaults": {
                      "arrowcolor": "#2a3f5f",
                      "arrowhead": 0,
                      "arrowwidth": 1
                    },
                    "autotypenumbers": "strict",
                    "coloraxis": {
                      "colorbar": {
                        "outlinewidth": 0,
                        "ticks": ""
                      }
                    },
                    "colorscale": {
                      "diverging": [
                        [
                          0,
                          "#8e0152"
                        ],
                        [
                          0.1,
                          "#c51b7d"
                        ],
                        [
                          0.2,
                          "#de77ae"
                        ],
                        [
                          0.3,
                          "#f1b6da"
                        ],
                        [
                          0.4,
                          "#fde0ef"
                        ],
                        [
                          0.5,
                          "#f7f7f7"
                        ],
                        [
                          0.6,
                          "#e6f5d0"
                        ],
                        [
                          0.7,
                          "#b8e186"
                        ],
                        [
                          0.8,
                          "#7fbc41"
                        ],
                        [
                          0.9,
                          "#4d9221"
                        ],
                        [
                          1,
                          "#276419"
                        ]
                      ],
                      "sequential": [
                        [
                          0,
                          "#0d0887"
                        ],
                        [
                          0.1111111111111111,
                          "#46039f"
                        ],
                        [
                          0.2222222222222222,
                          "#7201a8"
                        ],
                        [
                          0.3333333333333333,
                          "#9c179e"
                        ],
                        [
                          0.4444444444444444,
                          "#bd3786"
                        ],
                        [
                          0.5555555555555556,
                          "#d8576b"
                        ],
                        [
                          0.6666666666666666,
                          "#ed7953"
                        ],
                        [
                          0.7777777777777778,
                          "#fb9f3a"
                        ],
                        [
                          0.8888888888888888,
                          "#fdca26"
                        ],
                        [
                          1,
                          "#f0f921"
                        ]
                      ],
                      "sequentialminus": [
                        [
                          0,
                          "#0d0887"
                        ],
                        [
                          0.1111111111111111,
                          "#46039f"
                        ],
                        [
                          0.2222222222222222,
                          "#7201a8"
                        ],
                        [
                          0.3333333333333333,
                          "#9c179e"
                        ],
                        [
                          0.4444444444444444,
                          "#bd3786"
                        ],
                        [
                          0.5555555555555556,
                          "#d8576b"
                        ],
                        [
                          0.6666666666666666,
                          "#ed7953"
                        ],
                        [
                          0.7777777777777778,
                          "#fb9f3a"
                        ],
                        [
                          0.8888888888888888,
                          "#fdca26"
                        ],
                        [
                          1,
                          "#f0f921"
                        ]
                      ]
                    },
                    "colorway": [
                      "#636efa",
                      "#EF553B",
                      "#00cc96",
                      "#ab63fa",
                      "#FFA15A",
                      "#19d3f3",
                      "#FF6692",
                      "#B6E880",
                      "#FF97FF",
                      "#FECB52"
                    ],
                    "font": {
                      "color": "#2a3f5f"
                    },
                    "geo": {
                      "bgcolor": "white",
                      "lakecolor": "white",
                      "landcolor": "#E5ECF6",
                      "showlakes": true,
                      "showland": true,
                      "subunitcolor": "white"
                    },
                    "hoverlabel": {
                      "align": "left"
                    },
                    "hovermode": "closest",
                    "mapbox": {
                      "style": "light"
                    },
                    "paper_bgcolor": "white",
                    "plot_bgcolor": "#E5ECF6",
                    "polar": {
                      "angularaxis": {
                        "gridcolor": "white",
                        "linecolor": "white",
                        "ticks": ""
                      },
                      "bgcolor": "#E5ECF6",
                      "radialaxis": {
                        "gridcolor": "white",
                        "linecolor": "white",
                        "ticks": ""
                      }
                    },
                    "scene": {
                      "xaxis": {
                        "backgroundcolor": "#E5ECF6",
                        "gridcolor": "white",
                        "gridwidth": 2,
                        "linecolor": "white",
                        "showbackground": true,
                        "ticks": "",
                        "zerolinecolor": "white"
                      },
                      "yaxis": {
                        "backgroundcolor": "#E5ECF6",
                        "gridcolor": "white",
                        "gridwidth": 2,
                        "linecolor": "white",
                        "showbackground": true,
                        "ticks": "",
                        "zerolinecolor": "white"
                      },
                      "zaxis": {
                        "backgroundcolor": "#E5ECF6",
                        "gridcolor": "white",
                        "gridwidth": 2,
                        "linecolor": "white",
                        "showbackground": true,
                        "ticks": "",
                        "zerolinecolor": "white"
                      }
                    },
                    "shapedefaults": {
                      "line": {
                        "color": "#2a3f5f"
                      }
                    },
                    "ternary": {
                      "aaxis": {
                        "gridcolor": "white",
                        "linecolor": "white",
                        "ticks": ""
                      },
                      "baxis": {
                        "gridcolor": "white",
                        "linecolor": "white",
                        "ticks": ""
                      },
                      "bgcolor": "#E5ECF6",
                      "caxis": {
                        "gridcolor": "white",
                        "linecolor": "white",
                        "ticks": ""
                      }
                    },
                    "title": {
                      "x": 0.05
                    },
                    "xaxis": {
                      "automargin": true,
                      "gridcolor": "white",
                      "linecolor": "white",
                      "ticks": "",
                      "title": {
                        "standoff": 15
                      },
                      "zerolinecolor": "white",
                      "zerolinewidth": 2
                    },
                    "yaxis": {
                      "automargin": true,
                      "gridcolor": "white",
                      "linecolor": "white",
                      "ticks": "",
                      "title": {
                        "standoff": 15
                      },
                      "zerolinecolor": "white",
                      "zerolinewidth": 2
                    }
                  }
                },
                "title": {
                  "text": "Évolution de la température (Plotly interactif)"
                },
                "xaxis": {
                  "anchor": "y",
                  "domain": [
                    0,
                    1
                  ],
                  "title": {
                    "text": "Date"
                  }
                },
                "yaxis": {
                  "anchor": "x",
                  "domain": [
                    0,
                    1
                  ],
                  "title": {
                    "text": "Température (°C)"
                  }
                }
              }
            }
          },
          "metadata": {},
          "output_type": "display_data"
        },
        {
          "data": {
            "image/png": "[encoded data removed]",
            "text/plain": [
              "<Figure size 1200x600 with 1 Axes>"
            ]
          },
          "metadata": {},
          "output_type": "display_data"
        }
      ],
      "source": [
        "# 4. Vision de l'évolution temporelle de la température pour plusieurs villes\n",
        "## Un graphe avec plotly et un avec matplotlyb\n",
        "\n",
        "fig = px.line(\n",
        "    df,                       \n",
        "    x='date',\n",
        "    y='temperature',\n",
        "    color='ville',\n",
        "    markers=True,\n",
        "    title='Évolution de la température avec Plotly interactif'\n",
        ")\n",
        "fig.update_xaxes(title='Date')\n",
        "fig.update_yaxes(title='Température (°C)')\n",
        "fig.show()\n",
        "\n",
        "\n",
        "#################\n",
        "\n",
        "plt.figure(figsize=(12, 6))\n",
        "\n",
        "for ville in df['ville'].unique():\n",
        "    data_ville = df[df['ville'] == ville]\n",
        "    plt.plot(data_ville['date'], data_ville['temperature'],\n",
        "             marker='o', label=ville)\n",
        "\n",
        "plt.title('Évolution de la température avec Matplotlib')\n",
        "plt.xlabel('Date')\n",
        "plt.ylabel('Température (°C)')\n",
        "plt.legend()\n",
        "plt.xticks(rotation=45)\n",
        "plt.tight_layout()\n",
        "plt.show()"
      ]
    },
    {
      "cell_type": "markdown",
      "metadata": {
        "id": "U3OFGeR437l0"
      },
      "source": [
        "## Partie 5 : API bonus - Données agricoles\n",
        "\n",
        "### 🌱 API AgroMonitoring (gratuite)"
      ]
    },
    {
      "cell_type": "code",
      "execution_count": 13,
      "metadata": {
        "id": "9PZMkaLO3zAK"
      },
      "outputs": [],
      "source": [
        "# API satellite pour l'agriculture\n",
        "AGRO_API_KEY = \"VOTRE_CLE_AGROMONITORING\"\n",
        "\n",
        "def get_soil_data(polygon_coordinates, api_key):\n",
        "    \"\"\"\n",
        "    Récupère des données de sol via satellite\n",
        "    URL : http://api.agromonitoring.com/agro/1.0/\n",
        "\n",
        "    Données disponibles :\n",
        "    - Indices de végétation (NDVI)\n",
        "    - Humidité du sol\n",
        "    - Température de surface\n",
        "    \"\"\"\n",
        "    pass\n"
      ]
    },
    {
      "cell_type": "markdown",
      "metadata": {
        "id": "9U_DNqp24DD6"
      },
      "source": [
        "\n",
        "**Défi avancé :** Créez des recommandations de plantation basées sur :\n",
        "- Données météo des 30 derniers jours\n",
        "- Prévisions à 5 jours\n",
        "- Qualité de l'air\n",
        "- Indices de végétation satellite\n",
        "\n"
      ]
    },
    {
      "cell_type": "markdown",
      "metadata": {
        "id": "W15DybdE4Ksu"
      },
      "source": [
        "## 🏆 Livrables attendus\n",
        "\n",
        "### 📊 Dashboard météo\n",
        "Créez un tableau de bord contenant :\n",
        "1. **Aperçu temps réel** des 6 villes\n",
        "2. **Graphiques de tendances** sur 30 jours\n",
        "3. **Alertes qualité de l'air** (AQI > 100)\n",
        "4. **Recommandations agricoles** par ville"
      ]
    },
    {
      "cell_type": "code",
      "execution_count": 14,
      "metadata": {
        "id": "46lA8m084ULP"
      },
      "outputs": [],
      "source": [
        "### Format de présentation\n",
        "\n",
        "def generate_weather_report(city_data):\n",
        "    \"\"\"\n",
        "    Génère un rapport automatisé\n",
        "\n",
        "    Format :\n",
        "    - Résumé exécutif (3 lignes)\n",
        "    - Métriques clés (tableaux)\n",
        "    - Graphiques (4 visualisations)\n",
        "    - Recommandations (bullet points)\n",
        "    \"\"\"\n",
        "    pass"
      ]
    },
    {
      "cell_type": "markdown",
      "metadata": {
        "id": "eqxVMuuh4Qsq"
      },
      "source": [
        "---\n",
        "\n",
        "## 🎓 Critères d'évaluation\n",
        "\n",
        "- [ ] **APIs fonctionnelles** : Toutes les connexions API marchent\n",
        "- [ ] **Gestion d'erreurs** : Code robuste avec try/except\n",
        "- [ ] **Qualité des données** : Validation et nettoyage\n",
        "- [ ] **Visualisations** : Graphiques informatifs et esthétiques\n",
        "- [ ] **Insights business** : Recommandations basées sur les données\n",
        "\n",
        "### 🔗 Préparation au Notebook 2\n",
        "Le prochain notebook utilisera une vraie base de données PostgreSQL hébergée pour analyser des données de ventes e-commerce, en croisant avec vos données météo pour des analyses géolocalisées.\n",
        "\n",
        "### 📚 APIs alternatives (si quotas dépassés)\n",
        "- **WeatherAPI** : 1M appels/mois gratuits\n",
        "- **AccuWeather** : 50 appels/jour gratuits  \n",
        "- **Climatiq** : Données climat et carbone\n",
        "- **NASA APIs** : Données satellite gratuites"
      ]
    }
  ],
  "metadata": {
    "colab": {
      "provenance": []
    },
    "kernelspec": {
      "display_name": ".venv",
      "language": "python",
      "name": "python3"
    },
    "language_info": {
      "codemirror_mode": {
        "name": "ipython",
        "version": 3
      },
      "file_extension": ".py",
      "mimetype": "text/x-python",
      "name": "python",
      "nbconvert_exporter": "python",
      "pygments_lexer": "ipython3",
      "version": "3.12.3"
    }
  },
  "nbformat": 4,
  "nbformat_minor": 0
}
